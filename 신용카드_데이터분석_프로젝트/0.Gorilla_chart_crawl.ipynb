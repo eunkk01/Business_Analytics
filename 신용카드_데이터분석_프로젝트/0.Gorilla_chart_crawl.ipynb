{
 "cells": [
  {
   "cell_type": "code",
   "execution_count": 1,
   "id": "3ebf3963",
   "metadata": {
    "tags": []
   },
   "outputs": [],
   "source": [
    "import pandas as pd\n",
    "import numpy as np\n",
    "\n",
    "import selenium\n",
    "from selenium import webdriver\n",
    "from webdriver_manager.chrome import ChromeDriverManager\n",
    "from selenium.webdriver.chrome.service import Service\n",
    "from selenium.webdriver.common.by import By\n",
    "from selenium.webdriver.common.keys import Keys\n",
    "from selenium.webdriver.chrome.options import Options\n",
    "from selenium.webdriver.support.wait import WebDriverWait\n",
    "from selenium.common.exceptions import NoSuchElementException\n",
    "from bs4 import BeautifulSoup\n",
    "\n",
    "from datetime import datetime\n",
    "from tqdm import tqdm\n",
    "import requests\n",
    "import time\n",
    "import glob"
   ]
  },
  {
   "cell_type": "markdown",
   "id": "6ba6b0e5-feea-413f-9e2c-af30149d5b23",
   "metadata": {},
   "source": [
    "# Gorilla Chart 수집"
   ]
  },
  {
   "cell_type": "code",
   "execution_count": 98,
   "id": "9f2eeca3-343f-403e-a849-6f290b03a7e1",
   "metadata": {
    "tags": []
   },
   "outputs": [
    {
     "data": {
      "text/plain": [
       "DatetimeIndex(['2019-01-31', '2019-02-28', '2019-03-31', '2019-04-30',\n",
       "               '2019-05-31', '2019-06-30', '2019-07-31', '2019-08-31',\n",
       "               '2019-09-30', '2019-10-31', '2019-11-30', '2019-12-31',\n",
       "               '2020-01-31', '2020-02-29', '2020-03-31', '2020-04-30',\n",
       "               '2020-05-31', '2020-06-30', '2020-07-31', '2020-08-31',\n",
       "               '2020-09-30', '2020-10-31', '2020-11-30', '2020-12-31',\n",
       "               '2021-01-31', '2021-02-28', '2021-03-31', '2021-04-30',\n",
       "               '2021-05-31', '2021-06-30', '2021-07-31', '2021-08-31',\n",
       "               '2021-09-30', '2021-10-31', '2021-11-30', '2021-12-31',\n",
       "               '2022-01-31', '2022-02-28', '2022-03-31', '2022-04-30',\n",
       "               '2022-05-31', '2022-06-30', '2022-07-31', '2022-08-31',\n",
       "               '2022-09-30', '2022-10-31', '2022-11-30', '2022-12-31',\n",
       "               '2023-01-31', '2023-02-28', '2023-03-31', '2023-04-30',\n",
       "               '2023-05-31', '2023-06-30', '2023-07-31', '2023-08-31',\n",
       "               '2023-09-30', '2023-10-31', '2023-11-30', '2023-12-31',\n",
       "               '2024-01-31', '2024-02-29'],\n",
       "              dtype='datetime64[ns]', freq='M')"
      ]
     },
     "execution_count": 98,
     "metadata": {},
     "output_type": "execute_result"
    }
   ],
   "source": [
    "# 1년치 데이터 수집\n",
    "start_date='2019-01-01'\n",
    "end_date='2024-03-01'\n",
    "date_list=pd.date_range(start=start_date, end=end_date, freq='M')\n",
    "date_list"
   ]
  },
  {
   "cell_type": "markdown",
   "id": "a91614b6-e790-4307-a221-c8c7c6350590",
   "metadata": {
    "tags": []
   },
   "source": [
    "## 1. 혜택별 Top10\n",
    "\n",
    "```\n",
    "   혜택별 숫자 매칭 \n",
    "    dict = {'통신+공과금': [23,35],  \n",
    "            '주유+차량정비': [21,118],  \n",
    "            '쇼핑': [16],  \n",
    "            '항공마일리지': [26],  \n",
    "            '점심+교통': [5,137],  \n",
    "            '무실적+모든가맹점': [11,12],  \n",
    "            '구독/스트리밍': [169],  \n",
    "            '해외직구': [27,151],  \n",
    "            '배달앱+간편결제': [1,139],  \n",
    "            '편의점+카페': [22,77,127],  \n",
    "            '마트+교육비': [4,9,48,75],  \n",
    "            '여행+바우처': [18,158],  \n",
    "            '제휴/PLCC': [168],  \n",
    "            '증권사CMA': [175]\n",
    "            }\n",
    "```"
   ]
  },
  {
   "cell_type": "code",
   "execution_count": 269,
   "id": "05dc14bc-cb14-44f0-afca-bf679bf66080",
   "metadata": {},
   "outputs": [],
   "source": [
    "# 크롬창 띄우기\n",
    "chrome_options = webdriver.ChromeOptions()\n",
    "chrome_options.add_argument('--incognito') # 시크릿 모드로 열기\n",
    "drv = webdriver.Chrome(service=Service(ChromeDriverManager().install()), options = chrome_options)"
   ]
  },
  {
   "cell_type": "code",
   "execution_count": 305,
   "id": "ad9cc1b5-ef6d-4782-ae5d-87302d3d473a",
   "metadata": {
    "tags": []
   },
   "outputs": [],
   "source": [
    "rank = [i for i in range(1, 11)]\n",
    "\n",
    "for date in date_list:\n",
    "    get_date = date.strftime('%Y-%m-%d')\n",
    "    # sub={혜택별 dict값 변경}\n",
    "    drv.get(f'https://card-gorilla.com/chart/benefit?term=monthly&date={get_date}&sub=175')\n",
    "    time.sleep(2.5)\n",
    "    \n",
    "    soup = BeautifulSoup(drv.page_source, 'html.parser')\n",
    "    ranks = soup.find_all(class_='rk_lst')\n",
    "    \n",
    "    name_list = []\n",
    "    company_list = []\n",
    "    href_list = []\n",
    "    \n",
    "    for i in range(len(ranks)):\n",
    "        name_list.append(ranks[i].find(class_='card_name').text.strip())\n",
    "        company_list.append(ranks[i].find(class_='corp_name').text)\n",
    "        try:\n",
    "            href_list.append('https://card-gorilla.com'+ranks[i].find('a')['href'])\n",
    "        except:\n",
    "            href_list.append('None')\n",
    "            \n",
    "    d_list = [get_date for i in range(10)]\n",
    "    \n",
    "    df = pd.DataFrame({'date':d_list, 'rank':rank, 'card_name':name_list, \n",
    "                       'card_company':company_list, 'card_href':href_list})\n",
    "    \n",
    "    if get_date == '2023-01-31':\n",
    "        concat_df = df.copy()\n",
    "    else:\n",
    "        concat_df = pd.concat([concat_df, df], ignore_index=True)\n",
    "\n",
    "drv.close()"
   ]
  },
  {
   "cell_type": "code",
   "execution_count": 308,
   "id": "27176d5b-e0b5-4c80-8138-605db3815ba0",
   "metadata": {},
   "outputs": [
    {
     "data": {
      "text/html": [
       "<div>\n",
       "<style scoped>\n",
       "    .dataframe tbody tr th:only-of-type {\n",
       "        vertical-align: middle;\n",
       "    }\n",
       "\n",
       "    .dataframe tbody tr th {\n",
       "        vertical-align: top;\n",
       "    }\n",
       "\n",
       "    .dataframe thead th {\n",
       "        text-align: right;\n",
       "    }\n",
       "</style>\n",
       "<table border=\"1\" class=\"dataframe\">\n",
       "  <thead>\n",
       "    <tr style=\"text-align: right;\">\n",
       "      <th></th>\n",
       "      <th>date</th>\n",
       "      <th>rank</th>\n",
       "      <th>card_name</th>\n",
       "      <th>card_company</th>\n",
       "      <th>card_href</th>\n",
       "    </tr>\n",
       "  </thead>\n",
       "  <tbody>\n",
       "    <tr>\n",
       "      <th>0</th>\n",
       "      <td>2023-01-31</td>\n",
       "      <td>1</td>\n",
       "      <td>부자되세요 더마일리지 체크카드</td>\n",
       "      <td>교보증권</td>\n",
       "      <td>https://card-gorilla.com/card/detail/1903</td>\n",
       "    </tr>\n",
       "    <tr>\n",
       "      <th>1</th>\n",
       "      <td>2023-01-31</td>\n",
       "      <td>2</td>\n",
       "      <td>able Premier Members 카드</td>\n",
       "      <td>KB증권</td>\n",
       "      <td>https://card-gorilla.com/card/detail/2225</td>\n",
       "    </tr>\n",
       "    <tr>\n",
       "      <th>2</th>\n",
       "      <td>2023-01-31</td>\n",
       "      <td>3</td>\n",
       "      <td>Win.K 체크카드</td>\n",
       "      <td>교보증권</td>\n",
       "      <td>https://card-gorilla.com/card/detail/1900</td>\n",
       "    </tr>\n",
       "    <tr>\n",
       "      <th>3</th>\n",
       "      <td>2023-01-31</td>\n",
       "      <td>4</td>\n",
       "      <td>able 카드 Ⅱ</td>\n",
       "      <td>KB증권</td>\n",
       "      <td>https://card-gorilla.com/card/detail/2219</td>\n",
       "    </tr>\n",
       "    <tr>\n",
       "      <th>4</th>\n",
       "      <td>2023-01-31</td>\n",
       "      <td>5</td>\n",
       "      <td>DB금융투자 해피플러스 체크카드</td>\n",
       "      <td>DB금융투자</td>\n",
       "      <td>https://card-gorilla.com/card/detail/2220</td>\n",
       "    </tr>\n",
       "    <tr>\n",
       "      <th>...</th>\n",
       "      <td>...</td>\n",
       "      <td>...</td>\n",
       "      <td>...</td>\n",
       "      <td>...</td>\n",
       "      <td>...</td>\n",
       "    </tr>\n",
       "    <tr>\n",
       "      <th>135</th>\n",
       "      <td>2024-02-29</td>\n",
       "      <td>6</td>\n",
       "      <td>미래에셋증권 체크카드 (캐시백 2)</td>\n",
       "      <td>미래에셋증권</td>\n",
       "      <td>https://card-gorilla.com/card/detail/2217</td>\n",
       "    </tr>\n",
       "    <tr>\n",
       "      <th>136</th>\n",
       "      <td>2024-02-29</td>\n",
       "      <td>7</td>\n",
       "      <td>Win.K 체크카드</td>\n",
       "      <td>교보증권</td>\n",
       "      <td>https://card-gorilla.com/card/detail/1900</td>\n",
       "    </tr>\n",
       "    <tr>\n",
       "      <th>137</th>\n",
       "      <td>2024-02-29</td>\n",
       "      <td>8</td>\n",
       "      <td>한국투자 the More 체크카드</td>\n",
       "      <td>한국투자증권</td>\n",
       "      <td>https://card-gorilla.com/card/detail/2222</td>\n",
       "    </tr>\n",
       "    <tr>\n",
       "      <th>138</th>\n",
       "      <td>2024-02-29</td>\n",
       "      <td>9</td>\n",
       "      <td>able 아이맥스카드</td>\n",
       "      <td>KB증권</td>\n",
       "      <td>https://card-gorilla.com/card/detail/2223</td>\n",
       "    </tr>\n",
       "    <tr>\n",
       "      <th>139</th>\n",
       "      <td>2024-02-29</td>\n",
       "      <td>10</td>\n",
       "      <td>able 시럽카드</td>\n",
       "      <td>KB증권</td>\n",
       "      <td>https://card-gorilla.com/card/detail/2224</td>\n",
       "    </tr>\n",
       "  </tbody>\n",
       "</table>\n",
       "<p>140 rows × 5 columns</p>\n",
       "</div>"
      ],
      "text/plain": [
       "           date  rank                card_name card_company  \\\n",
       "0    2023-01-31     1         부자되세요 더마일리지 체크카드         교보증권   \n",
       "1    2023-01-31     2  able Premier Members 카드         KB증권   \n",
       "2    2023-01-31     3               Win.K 체크카드         교보증권   \n",
       "3    2023-01-31     4                able 카드 Ⅱ         KB증권   \n",
       "4    2023-01-31     5        DB금융투자 해피플러스 체크카드       DB금융투자   \n",
       "..          ...   ...                      ...          ...   \n",
       "135  2024-02-29     6      미래에셋증권 체크카드 (캐시백 2)       미래에셋증권   \n",
       "136  2024-02-29     7               Win.K 체크카드         교보증권   \n",
       "137  2024-02-29     8       한국투자 the More 체크카드       한국투자증권   \n",
       "138  2024-02-29     9              able 아이맥스카드         KB증권   \n",
       "139  2024-02-29    10                able 시럽카드         KB증권   \n",
       "\n",
       "                                     card_href  \n",
       "0    https://card-gorilla.com/card/detail/1903  \n",
       "1    https://card-gorilla.com/card/detail/2225  \n",
       "2    https://card-gorilla.com/card/detail/1900  \n",
       "3    https://card-gorilla.com/card/detail/2219  \n",
       "4    https://card-gorilla.com/card/detail/2220  \n",
       "..                                         ...  \n",
       "135  https://card-gorilla.com/card/detail/2217  \n",
       "136  https://card-gorilla.com/card/detail/1900  \n",
       "137  https://card-gorilla.com/card/detail/2222  \n",
       "138  https://card-gorilla.com/card/detail/2223  \n",
       "139  https://card-gorilla.com/card/detail/2224  \n",
       "\n",
       "[140 rows x 5 columns]"
      ]
     },
     "execution_count": 308,
     "metadata": {},
     "output_type": "execute_result"
    }
   ],
   "source": [
    "concat_df"
   ]
  },
  {
   "cell_type": "code",
   "execution_count": 309,
   "id": "d143b60b-e990-4064-a3b9-9ff6c366593d",
   "metadata": {},
   "outputs": [],
   "source": [
    "# save\n",
    "concat_df['promotion_cat'] = ['증권사CMA' for i in range(len(concat_df))]\n",
    "concat_df.to_csv('project_data/증권사CMA_top10.csv', index=False, encoding='euc-kr')"
   ]
  },
  {
   "cell_type": "markdown",
   "id": "ac4454fe-2962-4ffd-a843-b16fdb409df3",
   "metadata": {
    "tags": []
   },
   "source": [
    "## 2-1. 카드사별 Top10\n",
    "\n",
    "```\n",
    "    회사별 숫자 매칭\n",
    "    dict = {'KB국민카드':3,\n",
    "            '삼성카드':1,\n",
    "            '롯데카드':4,\n",
    "            'BC바로카드':32,\n",
    "            '신한카드':2,\n",
    "            '현대카드':7,\n",
    "            '우리카드':5,\n",
    "            'NH농협카드':9,\n",
    "            '하나카드':8,\n",
    "            'IBK기업은행':10\n",
    "            }\n",
    "```"
   ]
  },
  {
   "cell_type": "code",
   "execution_count": 158,
   "id": "745990fb-5d79-4423-92a2-addf44b1a575",
   "metadata": {
    "tags": []
   },
   "outputs": [],
   "source": [
    "# 크롬창 띄우기\n",
    "chrome_options = webdriver.ChromeOptions()\n",
    "chrome_options.add_argument('--incognito') # 시크릿 모드로 열기\n",
    "drv = webdriver.Chrome(service=Service(ChromeDriverManager().install()), options = chrome_options)"
   ]
  },
  {
   "cell_type": "code",
   "execution_count": 201,
   "id": "746d2287-5fbc-40be-b95e-cbf9e2ee15f8",
   "metadata": {
    "tags": []
   },
   "outputs": [],
   "source": [
    "rank = [i for i in range(1, 11)]\n",
    "\n",
    "for date in date_list:\n",
    "    get_date = date.strftime('%Y-%m-%d')\n",
    "    # sub={회사별 dict값 변경}\n",
    "    drv.get(f'https://card-gorilla.com/chart/corp?term=monthly&date={get_date}&sub=10')\n",
    "    time.sleep(5)\n",
    "    \n",
    "    soup = BeautifulSoup(drv.page_source, 'html.parser')\n",
    "    ranks = soup.find_all(class_='rk_lst')\n",
    "    \n",
    "    name_list = []\n",
    "    company_list = []\n",
    "    href_list = []\n",
    "    \n",
    "    for i in range(len(ranks)):\n",
    "        name_list.append(ranks[i].find(class_='card_name').text.strip())\n",
    "        company_list.append(ranks[i].find(class_='corp_name').text)\n",
    "        try:\n",
    "            href_list.append('https://card-gorilla.com'+ranks[i].find('a')['href'])\n",
    "        except:\n",
    "            href_list.append('None')\n",
    "            \n",
    "    d_list = [get_date for i in range(10)]\n",
    "    \n",
    "    df = pd.DataFrame({'date':d_list, 'rank':rank, 'card_name':name_list, \n",
    "                       'card_company':company_list, 'card_href':href_list})\n",
    "    \n",
    "    if get_date == '2023-01-31':\n",
    "        concat_df = df.copy()\n",
    "    else:\n",
    "        concat_df = pd.concat([concat_df, df], ignore_index=True)\n",
    "        \n",
    "drv.close()"
   ]
  },
  {
   "cell_type": "code",
   "execution_count": 202,
   "id": "7ac71c05-c4fc-4336-8a51-e754f264432d",
   "metadata": {
    "tags": []
   },
   "outputs": [
    {
     "data": {
      "text/html": [
       "<div>\n",
       "<style scoped>\n",
       "    .dataframe tbody tr th:only-of-type {\n",
       "        vertical-align: middle;\n",
       "    }\n",
       "\n",
       "    .dataframe tbody tr th {\n",
       "        vertical-align: top;\n",
       "    }\n",
       "\n",
       "    .dataframe thead th {\n",
       "        text-align: right;\n",
       "    }\n",
       "</style>\n",
       "<table border=\"1\" class=\"dataframe\">\n",
       "  <thead>\n",
       "    <tr style=\"text-align: right;\">\n",
       "      <th></th>\n",
       "      <th>date</th>\n",
       "      <th>rank</th>\n",
       "      <th>card_name</th>\n",
       "      <th>card_company</th>\n",
       "      <th>card_href</th>\n",
       "    </tr>\n",
       "  </thead>\n",
       "  <tbody>\n",
       "    <tr>\n",
       "      <th>0</th>\n",
       "      <td>2023-01-31</td>\n",
       "      <td>1</td>\n",
       "      <td>마일앤조이카드(대한항공)</td>\n",
       "      <td>IBK기업은행</td>\n",
       "      <td>https://card-gorilla.com/card/detail/267</td>\n",
       "    </tr>\n",
       "    <tr>\n",
       "      <th>1</th>\n",
       "      <td>2023-01-31</td>\n",
       "      <td>2</td>\n",
       "      <td>BLISS.7 카드(마일리지)</td>\n",
       "      <td>IBK기업은행</td>\n",
       "      <td>https://card-gorilla.com/card/detail/671</td>\n",
       "    </tr>\n",
       "    <tr>\n",
       "      <th>2</th>\n",
       "      <td>2023-01-31</td>\n",
       "      <td>3</td>\n",
       "      <td>ONE AIR(UniMile)</td>\n",
       "      <td>IBK기업은행</td>\n",
       "      <td>https://card-gorilla.com/card/detail/475</td>\n",
       "    </tr>\n",
       "    <tr>\n",
       "      <th>3</th>\n",
       "      <td>2023-01-31</td>\n",
       "      <td>4</td>\n",
       "      <td>일상의 기쁨카드(신용)</td>\n",
       "      <td>IBK기업은행</td>\n",
       "      <td>https://card-gorilla.com/card/detail/266</td>\n",
       "    </tr>\n",
       "    <tr>\n",
       "      <th>4</th>\n",
       "      <td>2023-01-31</td>\n",
       "      <td>5</td>\n",
       "      <td>마일앤조이카드(아시아나)</td>\n",
       "      <td>IBK기업은행</td>\n",
       "      <td>https://card-gorilla.com/card/detail/268</td>\n",
       "    </tr>\n",
       "    <tr>\n",
       "      <th>...</th>\n",
       "      <td>...</td>\n",
       "      <td>...</td>\n",
       "      <td>...</td>\n",
       "      <td>...</td>\n",
       "      <td>...</td>\n",
       "    </tr>\n",
       "    <tr>\n",
       "      <th>135</th>\n",
       "      <td>2024-02-29</td>\n",
       "      <td>6</td>\n",
       "      <td>K-22(Mileage)</td>\n",
       "      <td>IBK기업은행</td>\n",
       "      <td>https://card-gorilla.com/card/detail/2536</td>\n",
       "    </tr>\n",
       "    <tr>\n",
       "      <th>136</th>\n",
       "      <td>2024-02-29</td>\n",
       "      <td>7</td>\n",
       "      <td>마일앤조이카드(아시아나)</td>\n",
       "      <td>IBK기업은행</td>\n",
       "      <td>https://card-gorilla.com/card/detail/268</td>\n",
       "    </tr>\n",
       "    <tr>\n",
       "      <th>137</th>\n",
       "      <td>2024-02-29</td>\n",
       "      <td>8</td>\n",
       "      <td>I-알뜰교통플러스 카드(신용)</td>\n",
       "      <td>IBK기업은행</td>\n",
       "      <td>https://card-gorilla.com/card/detail/2559</td>\n",
       "    </tr>\n",
       "    <tr>\n",
       "      <th>138</th>\n",
       "      <td>2024-02-29</td>\n",
       "      <td>9</td>\n",
       "      <td>Daily With(데일리위드)카드</td>\n",
       "      <td>IBK기업은행</td>\n",
       "      <td>https://card-gorilla.com/card/detail/655</td>\n",
       "    </tr>\n",
       "    <tr>\n",
       "      <th>139</th>\n",
       "      <td>2024-02-29</td>\n",
       "      <td>10</td>\n",
       "      <td>IBK-Hybrid(하이브리드)카드</td>\n",
       "      <td>IBK기업은행</td>\n",
       "      <td>https://card-gorilla.com/card/detail/269</td>\n",
       "    </tr>\n",
       "  </tbody>\n",
       "</table>\n",
       "<p>140 rows × 5 columns</p>\n",
       "</div>"
      ],
      "text/plain": [
       "           date  rank            card_name card_company  \\\n",
       "0    2023-01-31     1        마일앤조이카드(대한항공)      IBK기업은행   \n",
       "1    2023-01-31     2     BLISS.7 카드(마일리지)      IBK기업은행   \n",
       "2    2023-01-31     3     ONE AIR(UniMile)      IBK기업은행   \n",
       "3    2023-01-31     4         일상의 기쁨카드(신용)      IBK기업은행   \n",
       "4    2023-01-31     5        마일앤조이카드(아시아나)      IBK기업은행   \n",
       "..          ...   ...                  ...          ...   \n",
       "135  2024-02-29     6        K-22(Mileage)      IBK기업은행   \n",
       "136  2024-02-29     7        마일앤조이카드(아시아나)      IBK기업은행   \n",
       "137  2024-02-29     8     I-알뜰교통플러스 카드(신용)      IBK기업은행   \n",
       "138  2024-02-29     9  Daily With(데일리위드)카드      IBK기업은행   \n",
       "139  2024-02-29    10  IBK-Hybrid(하이브리드)카드      IBK기업은행   \n",
       "\n",
       "                                     card_href  \n",
       "0     https://card-gorilla.com/card/detail/267  \n",
       "1     https://card-gorilla.com/card/detail/671  \n",
       "2     https://card-gorilla.com/card/detail/475  \n",
       "3     https://card-gorilla.com/card/detail/266  \n",
       "4     https://card-gorilla.com/card/detail/268  \n",
       "..                                         ...  \n",
       "135  https://card-gorilla.com/card/detail/2536  \n",
       "136   https://card-gorilla.com/card/detail/268  \n",
       "137  https://card-gorilla.com/card/detail/2559  \n",
       "138   https://card-gorilla.com/card/detail/655  \n",
       "139   https://card-gorilla.com/card/detail/269  \n",
       "\n",
       "[140 rows x 5 columns]"
      ]
     },
     "execution_count": 202,
     "metadata": {},
     "output_type": "execute_result"
    }
   ],
   "source": [
    "concat_df"
   ]
  },
  {
   "cell_type": "code",
   "execution_count": 203,
   "id": "04ec9bfd-f24f-4da6-9a36-1c2799a8f70c",
   "metadata": {
    "tags": []
   },
   "outputs": [],
   "source": [
    "# save\n",
    "concat_df.to_csv('project_data/IBK기업은행_top10.csv', index=False, encoding='euc-kr')"
   ]
  },
  {
   "cell_type": "markdown",
   "id": "5f2bab4f-3be9-4dfb-8ba2-adab62e7a08d",
   "metadata": {
    "tags": []
   },
   "source": [
    "## 2-2. 카드별 혜택 정보 수집"
   ]
  },
  {
   "cell_type": "code",
   "execution_count": 169,
   "id": "8fef7c2f-7cfe-4b74-a936-15cb1f8760ea",
   "metadata": {
    "tags": []
   },
   "outputs": [
    {
     "data": {
      "text/plain": [
       "['project_data\\\\BC바로카드_top10.csv',\n",
       " 'project_data\\\\IBK기업은행_top10.csv',\n",
       " 'project_data\\\\KB국민카드_top10.csv',\n",
       " 'project_data\\\\NH농협카드_top10.csv',\n",
       " 'project_data\\\\롯데카드_top10.csv',\n",
       " 'project_data\\\\삼성카드_top10.csv',\n",
       " 'project_data\\\\신한카드_top10.csv',\n",
       " 'project_data\\\\우리카드_top10.csv',\n",
       " 'project_data\\\\하나카드_top10.csv',\n",
       " 'project_data\\\\현대카드_top10.csv']"
      ]
     },
     "execution_count": 169,
     "metadata": {},
     "output_type": "execute_result"
    }
   ],
   "source": [
    "df_list = glob.glob('project_data/*_top10.csv')\n",
    "df_list"
   ]
  },
  {
   "cell_type": "code",
   "execution_count": 233,
   "id": "10e8ef8b-6b31-4eb4-9691-87cbdb8435d8",
   "metadata": {
    "tags": []
   },
   "outputs": [
    {
     "data": {
      "text/html": [
       "<div>\n",
       "<style scoped>\n",
       "    .dataframe tbody tr th:only-of-type {\n",
       "        vertical-align: middle;\n",
       "    }\n",
       "\n",
       "    .dataframe tbody tr th {\n",
       "        vertical-align: top;\n",
       "    }\n",
       "\n",
       "    .dataframe thead th {\n",
       "        text-align: right;\n",
       "    }\n",
       "</style>\n",
       "<table border=\"1\" class=\"dataframe\">\n",
       "  <thead>\n",
       "    <tr style=\"text-align: right;\">\n",
       "      <th></th>\n",
       "      <th>date</th>\n",
       "      <th>rank</th>\n",
       "      <th>card_name</th>\n",
       "      <th>card_company</th>\n",
       "      <th>card_href</th>\n",
       "    </tr>\n",
       "  </thead>\n",
       "  <tbody>\n",
       "    <tr>\n",
       "      <th>0</th>\n",
       "      <td>2023-01-31</td>\n",
       "      <td>1</td>\n",
       "      <td>현대카드ZERO Edition2(할인형)</td>\n",
       "      <td>현대카드</td>\n",
       "      <td>https://card-gorilla.com/card/detail/608</td>\n",
       "    </tr>\n",
       "    <tr>\n",
       "      <th>1</th>\n",
       "      <td>2023-01-31</td>\n",
       "      <td>2</td>\n",
       "      <td>현대카드 M BOOST</td>\n",
       "      <td>현대카드</td>\n",
       "      <td>https://card-gorilla.com/card/detail/700</td>\n",
       "    </tr>\n",
       "    <tr>\n",
       "      <th>2</th>\n",
       "      <td>2023-01-31</td>\n",
       "      <td>3</td>\n",
       "      <td>네이버 현대카드</td>\n",
       "      <td>현대카드</td>\n",
       "      <td>https://card-gorilla.com/card/detail/2233</td>\n",
       "    </tr>\n",
       "    <tr>\n",
       "      <th>3</th>\n",
       "      <td>2023-01-31</td>\n",
       "      <td>4</td>\n",
       "      <td>American Express® Gold Card</td>\n",
       "      <td>현대카드</td>\n",
       "      <td>https://card-gorilla.com/card/detail/2281</td>\n",
       "    </tr>\n",
       "    <tr>\n",
       "      <th>4</th>\n",
       "      <td>2023-01-31</td>\n",
       "      <td>5</td>\n",
       "      <td>대한항공카드 030</td>\n",
       "      <td>현대카드</td>\n",
       "      <td>https://card-gorilla.com/card/detail/600</td>\n",
       "    </tr>\n",
       "    <tr>\n",
       "      <th>5</th>\n",
       "      <td>2023-01-31</td>\n",
       "      <td>6</td>\n",
       "      <td>the Green Edition2</td>\n",
       "      <td>현대카드</td>\n",
       "      <td>https://card-gorilla.com/card/detail/2260</td>\n",
       "    </tr>\n",
       "    <tr>\n",
       "      <th>6</th>\n",
       "      <td>2023-01-31</td>\n",
       "      <td>7</td>\n",
       "      <td>the Red Edition5</td>\n",
       "      <td>현대카드</td>\n",
       "      <td>https://card-gorilla.com/card/detail/2259</td>\n",
       "    </tr>\n",
       "    <tr>\n",
       "      <th>7</th>\n",
       "      <td>2023-01-31</td>\n",
       "      <td>8</td>\n",
       "      <td>현대카드Z family</td>\n",
       "      <td>현대카드</td>\n",
       "      <td>https://card-gorilla.com/card/detail/730</td>\n",
       "    </tr>\n",
       "    <tr>\n",
       "      <th>8</th>\n",
       "      <td>2023-01-31</td>\n",
       "      <td>9</td>\n",
       "      <td>현대카드ZERO Edition2(포인트형)</td>\n",
       "      <td>현대카드</td>\n",
       "      <td>https://card-gorilla.com/card/detail/610</td>\n",
       "    </tr>\n",
       "    <tr>\n",
       "      <th>9</th>\n",
       "      <td>2023-01-31</td>\n",
       "      <td>10</td>\n",
       "      <td>현대카드 X BOOST</td>\n",
       "      <td>현대카드</td>\n",
       "      <td>https://card-gorilla.com/card/detail/701</td>\n",
       "    </tr>\n",
       "    <tr>\n",
       "      <th>10</th>\n",
       "      <td>2023-06-30</td>\n",
       "      <td>10</td>\n",
       "      <td>현대카드 M3 BOOST</td>\n",
       "      <td>현대카드</td>\n",
       "      <td>https://card-gorilla.com/card/detail/703</td>\n",
       "    </tr>\n",
       "    <tr>\n",
       "      <th>11</th>\n",
       "      <td>2023-07-31</td>\n",
       "      <td>10</td>\n",
       "      <td>현대카드Z work</td>\n",
       "      <td>현대카드</td>\n",
       "      <td>https://card-gorilla.com/card/detail/731</td>\n",
       "    </tr>\n",
       "  </tbody>\n",
       "</table>\n",
       "</div>"
      ],
      "text/plain": [
       "          date  rank                    card_name card_company  \\\n",
       "0   2023-01-31     1       현대카드ZERO Edition2(할인형)         현대카드   \n",
       "1   2023-01-31     2                 현대카드 M BOOST         현대카드   \n",
       "2   2023-01-31     3                     네이버 현대카드         현대카드   \n",
       "3   2023-01-31     4  American Express® Gold Card         현대카드   \n",
       "4   2023-01-31     5                   대한항공카드 030         현대카드   \n",
       "5   2023-01-31     6           the Green Edition2         현대카드   \n",
       "6   2023-01-31     7             the Red Edition5         현대카드   \n",
       "7   2023-01-31     8                 현대카드Z family         현대카드   \n",
       "8   2023-01-31     9      현대카드ZERO Edition2(포인트형)         현대카드   \n",
       "9   2023-01-31    10                 현대카드 X BOOST         현대카드   \n",
       "10  2023-06-30    10                현대카드 M3 BOOST         현대카드   \n",
       "11  2023-07-31    10                   현대카드Z work         현대카드   \n",
       "\n",
       "                                    card_href  \n",
       "0    https://card-gorilla.com/card/detail/608  \n",
       "1    https://card-gorilla.com/card/detail/700  \n",
       "2   https://card-gorilla.com/card/detail/2233  \n",
       "3   https://card-gorilla.com/card/detail/2281  \n",
       "4    https://card-gorilla.com/card/detail/600  \n",
       "5   https://card-gorilla.com/card/detail/2260  \n",
       "6   https://card-gorilla.com/card/detail/2259  \n",
       "7    https://card-gorilla.com/card/detail/730  \n",
       "8    https://card-gorilla.com/card/detail/610  \n",
       "9    https://card-gorilla.com/card/detail/701  \n",
       "10   https://card-gorilla.com/card/detail/703  \n",
       "11   https://card-gorilla.com/card/detail/731  "
      ]
     },
     "execution_count": 233,
     "metadata": {},
     "output_type": "execute_result"
    }
   ],
   "source": [
    "df = pd.read_csv(df_list[9], encoding='euc-kr')\n",
    "df.drop_duplicates('card_href', inplace=True, ignore_index=True)\n",
    "df = df[df['card_href'].isnull()==False]\n",
    "df.reset_index(inplace=True, drop=True)\n",
    "df"
   ]
  },
  {
   "cell_type": "code",
   "execution_count": 26,
   "id": "070411de-a37a-4c85-bca1-1e41beea997e",
   "metadata": {
    "tags": []
   },
   "outputs": [
    {
     "data": {
      "text/html": [
       "<div>\n",
       "<style scoped>\n",
       "    .dataframe tbody tr th:only-of-type {\n",
       "        vertical-align: middle;\n",
       "    }\n",
       "\n",
       "    .dataframe tbody tr th {\n",
       "        vertical-align: top;\n",
       "    }\n",
       "\n",
       "    .dataframe thead th {\n",
       "        text-align: right;\n",
       "    }\n",
       "</style>\n",
       "<table border=\"1\" class=\"dataframe\">\n",
       "  <thead>\n",
       "    <tr style=\"text-align: right;\">\n",
       "      <th></th>\n",
       "      <th>date</th>\n",
       "      <th>rank</th>\n",
       "      <th>card_name</th>\n",
       "      <th>card_company</th>\n",
       "      <th>card_href</th>\n",
       "    </tr>\n",
       "  </thead>\n",
       "  <tbody>\n",
       "    <tr>\n",
       "      <th>0</th>\n",
       "      <td>2023-01-31</td>\n",
       "      <td>1</td>\n",
       "      <td>LOCA 365 카드</td>\n",
       "      <td>롯데카드</td>\n",
       "      <td>https://card-gorilla.com/card/detail/2330</td>\n",
       "    </tr>\n",
       "    <tr>\n",
       "      <th>1</th>\n",
       "      <td>2023-01-31</td>\n",
       "      <td>2</td>\n",
       "      <td>DA@카드의정석</td>\n",
       "      <td>우리카드</td>\n",
       "      <td>https://card-gorilla.com/card/detail/87</td>\n",
       "    </tr>\n",
       "    <tr>\n",
       "      <th>2</th>\n",
       "      <td>2023-01-31</td>\n",
       "      <td>3</td>\n",
       "      <td>삼성카드 taptap O</td>\n",
       "      <td>삼성카드</td>\n",
       "      <td>https://card-gorilla.com/card/detail/51</td>\n",
       "    </tr>\n",
       "    <tr>\n",
       "      <th>3</th>\n",
       "      <td>2023-01-31</td>\n",
       "      <td>4</td>\n",
       "      <td>신한카드 Mr.Life</td>\n",
       "      <td>신한카드</td>\n",
       "      <td>https://card-gorilla.com/card/detail/13</td>\n",
       "    </tr>\n",
       "    <tr>\n",
       "      <th>4</th>\n",
       "      <td>2023-01-31</td>\n",
       "      <td>5</td>\n",
       "      <td>신한카드 Deep Dream</td>\n",
       "      <td>신한카드</td>\n",
       "      <td>https://card-gorilla.com/card/detail/32</td>\n",
       "    </tr>\n",
       "    <tr>\n",
       "      <th>...</th>\n",
       "      <td>...</td>\n",
       "      <td>...</td>\n",
       "      <td>...</td>\n",
       "      <td>...</td>\n",
       "      <td>...</td>\n",
       "    </tr>\n",
       "    <tr>\n",
       "      <th>168</th>\n",
       "      <td>2024-02-29</td>\n",
       "      <td>55</td>\n",
       "      <td>IBK무민카드(신용)</td>\n",
       "      <td>IBK기업은행</td>\n",
       "      <td>https://card-gorilla.com/card/detail/723</td>\n",
       "    </tr>\n",
       "    <tr>\n",
       "      <th>169</th>\n",
       "      <td>2024-02-29</td>\n",
       "      <td>79</td>\n",
       "      <td>DA카드의정석 Ⅱ</td>\n",
       "      <td>우리카드</td>\n",
       "      <td>https://card-gorilla.com/card/detail/2655</td>\n",
       "    </tr>\n",
       "    <tr>\n",
       "      <th>170</th>\n",
       "      <td>2024-02-29</td>\n",
       "      <td>83</td>\n",
       "      <td>현대카드ZERO Edition3(할인형)</td>\n",
       "      <td>현대카드</td>\n",
       "      <td>https://card-gorilla.com/card/detail/2646</td>\n",
       "    </tr>\n",
       "    <tr>\n",
       "      <th>171</th>\n",
       "      <td>2024-02-29</td>\n",
       "      <td>89</td>\n",
       "      <td>JADE Classic</td>\n",
       "      <td>하나카드</td>\n",
       "      <td>https://card-gorilla.com/card/detail/2657</td>\n",
       "    </tr>\n",
       "    <tr>\n",
       "      <th>172</th>\n",
       "      <td>2024-02-29</td>\n",
       "      <td>93</td>\n",
       "      <td>K-22(Mileage)</td>\n",
       "      <td>IBK기업은행</td>\n",
       "      <td>https://card-gorilla.com/card/detail/2536</td>\n",
       "    </tr>\n",
       "  </tbody>\n",
       "</table>\n",
       "<p>173 rows × 5 columns</p>\n",
       "</div>"
      ],
      "text/plain": [
       "           date  rank               card_name card_company  \\\n",
       "0    2023-01-31     1             LOCA 365 카드         롯데카드   \n",
       "1    2023-01-31     2                DA@카드의정석         우리카드   \n",
       "2    2023-01-31     3           삼성카드 taptap O         삼성카드   \n",
       "3    2023-01-31     4            신한카드 Mr.Life         신한카드   \n",
       "4    2023-01-31     5         신한카드 Deep Dream         신한카드   \n",
       "..          ...   ...                     ...          ...   \n",
       "168  2024-02-29    55             IBK무민카드(신용)      IBK기업은행   \n",
       "169  2024-02-29    79               DA카드의정석 Ⅱ         우리카드   \n",
       "170  2024-02-29    83  현대카드ZERO Edition3(할인형)         현대카드   \n",
       "171  2024-02-29    89            JADE Classic         하나카드   \n",
       "172  2024-02-29    93           K-22(Mileage)      IBK기업은행   \n",
       "\n",
       "                                     card_href  \n",
       "0    https://card-gorilla.com/card/detail/2330  \n",
       "1      https://card-gorilla.com/card/detail/87  \n",
       "2      https://card-gorilla.com/card/detail/51  \n",
       "3      https://card-gorilla.com/card/detail/13  \n",
       "4      https://card-gorilla.com/card/detail/32  \n",
       "..                                         ...  \n",
       "168   https://card-gorilla.com/card/detail/723  \n",
       "169  https://card-gorilla.com/card/detail/2655  \n",
       "170  https://card-gorilla.com/card/detail/2646  \n",
       "171  https://card-gorilla.com/card/detail/2657  \n",
       "172  https://card-gorilla.com/card/detail/2536  \n",
       "\n",
       "[173 rows x 5 columns]"
      ]
     },
     "execution_count": 26,
     "metadata": {},
     "output_type": "execute_result"
    }
   ],
   "source": [
    "df = pd.read_csv('project_data/credit_card_top100.csv')\n",
    "df.drop_duplicates('card_href', inplace=True, ignore_index=True)\n",
    "df = df[df['card_href'].isnull()==False]\n",
    "df.reset_index(inplace=True, drop=True)\n",
    "df"
   ]
  },
  {
   "cell_type": "code",
   "execution_count": 27,
   "id": "cb7e5170-f3d5-4067-8de1-7b8c46d7c6eb",
   "metadata": {
    "tags": []
   },
   "outputs": [],
   "source": [
    "# 크롬창 띄우기\n",
    "chrome_options = webdriver.ChromeOptions()\n",
    "chrome_options.add_argument('--incognito') # 시크릿 모드로 열기\n",
    "drv = webdriver.Chrome(service=Service(ChromeDriverManager().install()), options = chrome_options)"
   ]
  },
  {
   "cell_type": "code",
   "execution_count": 29,
   "id": "ac3a0eeb-8131-4b75-b2b8-fcc5b71e35f8",
   "metadata": {},
   "outputs": [
    {
     "name": "stderr",
     "output_type": "stream",
     "text": [
      "173it [20:13,  7.02s/it]\n"
     ]
    }
   ],
   "source": [
    "for index, href in tqdm(enumerate(df['card_href'])):\n",
    "    drv.get(href)\n",
    "    time.sleep(4)\n",
    "    soup = BeautifulSoup(drv.page_source, 'html.parser')\n",
    "    \n",
    "    # event\n",
    "    try:\n",
    "        event = soup.find(class_='event_txt').text\n",
    "    except:\n",
    "        event = 'None'\n",
    "    \n",
    "    # promotion\n",
    "    promotions_list = soup.find(class_='bnf1').find_all('dl')\n",
    "    promotions = ''\n",
    "    for i in range(len(promotions_list)):\n",
    "        prm = promotions_list[i].find('dt').text + ' ' + promotions_list[i].find('dd').text\n",
    "        prm.replace('최대', '').replace(',', '').strip().strip()\n",
    "        promotions += prm + ' && '\n",
    "    promotions = promotions[:-3].strip()\n",
    "    \n",
    "    # 연회비, 실적, 카드종류\n",
    "    bottoms = soup.find(class_='bnf2').find_all('dl')\n",
    "    \n",
    "    fee = bottoms[0].find(class_='in_out').text.replace(',', '')\n",
    "    \n",
    "    perform = bottoms[1].text.replace('\\n', '').replace('\\t', '')\n",
    "    \n",
    "    brand_list = bottoms[2].find(class_='c_brand').find_all('span')\n",
    "    brand = ''\n",
    "    for text in brand_list:\n",
    "        brand += text.text\n",
    "        brand += ' '\n",
    "    brand = brand.strip()\n",
    "    \n",
    "    dd = pd.DataFrame({'card_company': [df['card_company'][index]], 'card_name': [df['card_name'][index]], 'event': [event], \n",
    "                       'promotions': [promotions], 'fee': [fee], 'perform': [perform], 'brand': [brand]})\n",
    "    \n",
    "    if index==0:\n",
    "        concat_df = dd\n",
    "    else:\n",
    "        concat_df = pd.concat([concat_df, dd], ignore_index=True)\n",
    "    \n",
    "    time.sleep(2)\n",
    "    \n",
    "drv.close()"
   ]
  },
  {
   "cell_type": "code",
   "execution_count": 30,
   "id": "4d644612-d802-4834-81ac-912855f6377d",
   "metadata": {
    "tags": []
   },
   "outputs": [
    {
     "data": {
      "text/html": [
       "<div>\n",
       "<style scoped>\n",
       "    .dataframe tbody tr th:only-of-type {\n",
       "        vertical-align: middle;\n",
       "    }\n",
       "\n",
       "    .dataframe tbody tr th {\n",
       "        vertical-align: top;\n",
       "    }\n",
       "\n",
       "    .dataframe thead th {\n",
       "        text-align: right;\n",
       "    }\n",
       "</style>\n",
       "<table border=\"1\" class=\"dataframe\">\n",
       "  <thead>\n",
       "    <tr style=\"text-align: right;\">\n",
       "      <th></th>\n",
       "      <th>card_company</th>\n",
       "      <th>card_name</th>\n",
       "      <th>event</th>\n",
       "      <th>promotions</th>\n",
       "      <th>fee</th>\n",
       "      <th>perform</th>\n",
       "      <th>brand</th>\n",
       "    </tr>\n",
       "  </thead>\n",
       "  <tbody>\n",
       "    <tr>\n",
       "      <th>0</th>\n",
       "      <td>롯데카드</td>\n",
       "      <td>LOCA 365 카드</td>\n",
       "      <td>None</td>\n",
       "      <td>아파트관리비, 공과금 10%할인 &amp;&amp; 교통, 통신, 배달앱 10%할인 &amp;&amp; 스트리밍...</td>\n",
       "      <td>국내전용 20000원  해외겸용 20000원</td>\n",
       "      <td>전월실적50만원 이상</td>\n",
       "      <td>mastercard AMEX</td>\n",
       "    </tr>\n",
       "    <tr>\n",
       "      <th>1</th>\n",
       "      <td>우리카드</td>\n",
       "      <td>DA@카드의정석</td>\n",
       "      <td>None</td>\n",
       "      <td>모든가맹점 0.8%할인 &amp;&amp; 생활업종 1.3%할인 &amp;&amp; 국내공항라운지 연 2회무료(...</td>\n",
       "      <td>국내전용 5000원  해외겸용 10000원</td>\n",
       "      <td>전월실적없음</td>\n",
       "      <td>BC mastercard</td>\n",
       "    </tr>\n",
       "    <tr>\n",
       "      <th>2</th>\n",
       "      <td>삼성카드</td>\n",
       "      <td>삼성카드 taptap O</td>\n",
       "      <td>최대 8만원 캐시백</td>\n",
       "      <td>스타벅스 50%할인 &amp;&amp; 대중교통 10%할인 &amp;&amp; CGV, 롯데시네마 5,000원할인</td>\n",
       "      <td>국내전용 10000원  해외겸용 10000원</td>\n",
       "      <td>전월실적30만원 이상</td>\n",
       "      <td>mastercard</td>\n",
       "    </tr>\n",
       "    <tr>\n",
       "      <th>3</th>\n",
       "      <td>신한카드</td>\n",
       "      <td>신한카드 Mr.Life</td>\n",
       "      <td>신한카드 이용하고 최대 10만원 캐시백 받아가자!</td>\n",
       "      <td>공과금 10%할인 &amp;&amp; 마트,편의점 10%할인 &amp;&amp; 식음료 10%할인</td>\n",
       "      <td>해외겸용 15000원</td>\n",
       "      <td>전월실적30만원 이상</td>\n",
       "      <td>VISA</td>\n",
       "    </tr>\n",
       "    <tr>\n",
       "      <th>4</th>\n",
       "      <td>신한카드</td>\n",
       "      <td>신한카드 Deep Dream</td>\n",
       "      <td>신한카드 이용하고 최대 10만원 캐시백 받아가자!</td>\n",
       "      <td>모두드림 0.7%적립 &amp;&amp; 더해드림 2.1%적립 &amp;&amp; 챙겨드림 3.5%적립</td>\n",
       "      <td>해외겸용 8000원</td>\n",
       "      <td>전월실적없음</td>\n",
       "      <td>VISA UnionPay</td>\n",
       "    </tr>\n",
       "    <tr>\n",
       "      <th>...</th>\n",
       "      <td>...</td>\n",
       "      <td>...</td>\n",
       "      <td>...</td>\n",
       "      <td>...</td>\n",
       "      <td>...</td>\n",
       "      <td>...</td>\n",
       "      <td>...</td>\n",
       "    </tr>\n",
       "    <tr>\n",
       "      <th>168</th>\n",
       "      <td>IBK기업은행</td>\n",
       "      <td>IBK무민카드(신용)</td>\n",
       "      <td>카드고릴라 프로모션! 10만원 캐시백</td>\n",
       "      <td>주요 커피전문점 20%할인 &amp;&amp; 쿠팡, 티몬, 위메프 20%할인 &amp;&amp; 편의점 10%할인</td>\n",
       "      <td>국내전용 10000원  해외겸용 10000원</td>\n",
       "      <td>전월실적50만원 이상</td>\n",
       "      <td>BC mastercard UnionPay</td>\n",
       "    </tr>\n",
       "    <tr>\n",
       "      <th>169</th>\n",
       "      <td>우리카드</td>\n",
       "      <td>DA카드의정석 Ⅱ</td>\n",
       "      <td>None</td>\n",
       "      <td>모든가맹점 0.8%할인 &amp;&amp; 생활업종 1.3%할인 &amp;&amp; 국내 공항라운지 무료이용</td>\n",
       "      <td>국내전용 12000원  해외겸용 12000원</td>\n",
       "      <td>전월실적없음</td>\n",
       "      <td>mastercard</td>\n",
       "    </tr>\n",
       "    <tr>\n",
       "      <th>170</th>\n",
       "      <td>현대카드</td>\n",
       "      <td>현대카드ZERO Edition3(할인형)</td>\n",
       "      <td>신규회원 연회비 캐시백 이벤트</td>\n",
       "      <td>국내외 가맹점 0.8%할인</td>\n",
       "      <td>국내전용 15000원  해외겸용 15000원</td>\n",
       "      <td>전월실적없음</td>\n",
       "      <td>VISA AMEX</td>\n",
       "    </tr>\n",
       "    <tr>\n",
       "      <th>171</th>\n",
       "      <td>하나카드</td>\n",
       "      <td>JADE Classic</td>\n",
       "      <td>None</td>\n",
       "      <td>바우처 최대 10만원제공 &amp;&amp; 전세계 공항라운지 연 3회 무료이용 &amp;&amp; 국내외 가맹...</td>\n",
       "      <td>국내전용 115000원  해외겸용 120000원</td>\n",
       "      <td>전월실적없음</td>\n",
       "      <td>VISA</td>\n",
       "    </tr>\n",
       "    <tr>\n",
       "      <th>172</th>\n",
       "      <td>IBK기업은행</td>\n",
       "      <td>K-22(Mileage)</td>\n",
       "      <td>카드고릴라 프로모션! 신규회원 연회비 100% 캐시백</td>\n",
       "      <td>1,500원 당 최대 2마일리지적립 &amp;&amp; 바우처 15만원 상당제공 &amp;&amp; 공항라운지 ...</td>\n",
       "      <td>국내전용 219000원  해외겸용 220000원</td>\n",
       "      <td>전월실적50만원 이상</td>\n",
       "      <td>BC mastercard</td>\n",
       "    </tr>\n",
       "  </tbody>\n",
       "</table>\n",
       "<p>173 rows × 7 columns</p>\n",
       "</div>"
      ],
      "text/plain": [
       "    card_company               card_name                          event  \\\n",
       "0           롯데카드             LOCA 365 카드                           None   \n",
       "1           우리카드                DA@카드의정석                           None   \n",
       "2           삼성카드           삼성카드 taptap O                     최대 8만원 캐시백   \n",
       "3           신한카드            신한카드 Mr.Life    신한카드 이용하고 최대 10만원 캐시백 받아가자!   \n",
       "4           신한카드         신한카드 Deep Dream    신한카드 이용하고 최대 10만원 캐시백 받아가자!   \n",
       "..           ...                     ...                            ...   \n",
       "168      IBK기업은행             IBK무민카드(신용)           카드고릴라 프로모션! 10만원 캐시백   \n",
       "169         우리카드               DA카드의정석 Ⅱ                           None   \n",
       "170         현대카드  현대카드ZERO Edition3(할인형)               신규회원 연회비 캐시백 이벤트   \n",
       "171         하나카드            JADE Classic                           None   \n",
       "172      IBK기업은행           K-22(Mileage)  카드고릴라 프로모션! 신규회원 연회비 100% 캐시백   \n",
       "\n",
       "                                            promotions  \\\n",
       "0    아파트관리비, 공과금 10%할인 && 교통, 통신, 배달앱 10%할인 && 스트리밍...   \n",
       "1    모든가맹점 0.8%할인 && 생활업종 1.3%할인 && 국내공항라운지 연 2회무료(...   \n",
       "2      스타벅스 50%할인 && 대중교통 10%할인 && CGV, 롯데시네마 5,000원할인   \n",
       "3               공과금 10%할인 && 마트,편의점 10%할인 && 식음료 10%할인   \n",
       "4            모두드림 0.7%적립 && 더해드림 2.1%적립 && 챙겨드림 3.5%적립   \n",
       "..                                                 ...   \n",
       "168   주요 커피전문점 20%할인 && 쿠팡, 티몬, 위메프 20%할인 && 편의점 10%할인   \n",
       "169       모든가맹점 0.8%할인 && 생활업종 1.3%할인 && 국내 공항라운지 무료이용   \n",
       "170                                     국내외 가맹점 0.8%할인   \n",
       "171  바우처 최대 10만원제공 && 전세계 공항라운지 연 3회 무료이용 && 국내외 가맹...   \n",
       "172  1,500원 당 최대 2마일리지적립 && 바우처 15만원 상당제공 && 공항라운지 ...   \n",
       "\n",
       "                            fee      perform                   brand  \n",
       "0      국내전용 20000원  해외겸용 20000원  전월실적50만원 이상         mastercard AMEX  \n",
       "1       국내전용 5000원  해외겸용 10000원       전월실적없음           BC mastercard  \n",
       "2      국내전용 10000원  해외겸용 10000원  전월실적30만원 이상              mastercard  \n",
       "3                   해외겸용 15000원  전월실적30만원 이상                    VISA  \n",
       "4                    해외겸용 8000원       전월실적없음           VISA UnionPay  \n",
       "..                          ...          ...                     ...  \n",
       "168    국내전용 10000원  해외겸용 10000원  전월실적50만원 이상  BC mastercard UnionPay  \n",
       "169    국내전용 12000원  해외겸용 12000원       전월실적없음              mastercard  \n",
       "170    국내전용 15000원  해외겸용 15000원       전월실적없음               VISA AMEX  \n",
       "171  국내전용 115000원  해외겸용 120000원       전월실적없음                    VISA  \n",
       "172  국내전용 219000원  해외겸용 220000원  전월실적50만원 이상           BC mastercard  \n",
       "\n",
       "[173 rows x 7 columns]"
      ]
     },
     "execution_count": 30,
     "metadata": {},
     "output_type": "execute_result"
    }
   ],
   "source": [
    "concat_df"
   ]
  },
  {
   "cell_type": "code",
   "execution_count": 31,
   "id": "f45ca06a-b5a2-471e-a662-86596b74b4b7",
   "metadata": {
    "tags": []
   },
   "outputs": [],
   "source": [
    "# save\n",
    "concat_df.to_csv('project_data/credit_top100_info.csv', index=False)"
   ]
  },
  {
   "cell_type": "code",
   "execution_count": 236,
   "id": "9d5d3fa3-28d6-4ff6-be21-53075c9fdacf",
   "metadata": {
    "tags": []
   },
   "outputs": [],
   "source": [
    "# save\n",
    "concat_df.to_csv('project_data/현대카드_info.csv', encoding='euc-kr', index=False)"
   ]
  },
  {
   "cell_type": "markdown",
   "id": "f929c3ec-ba13-4d4b-b2b1-350030f8e506",
   "metadata": {
    "tags": []
   },
   "source": [
    "## 3. 신용카드 Top100 수집"
   ]
  },
  {
   "cell_type": "code",
   "execution_count": 102,
   "id": "5436bd8f-045f-4f5f-88fc-c80ee9d48d04",
   "metadata": {},
   "outputs": [],
   "source": [
    "# 크롬창 띄우기\n",
    "chrome_options = webdriver.ChromeOptions()\n",
    "chrome_options.add_argument('--incognito') # 시크릿 모드로 열기\n",
    "drv = webdriver.Chrome(service=Service(ChromeDriverManager().install()), options = chrome_options)"
   ]
  },
  {
   "cell_type": "code",
   "execution_count": 104,
   "id": "3e7c4a31-69a8-4a50-a164-d788c4b80714",
   "metadata": {
    "tags": []
   },
   "outputs": [
    {
     "name": "stderr",
     "output_type": "stream",
     "text": [
      "100%|██████████████████████████████████████████████████████████████████████████████████| 62/62 [10:13<00:00,  9.89s/it]\n"
     ]
    }
   ],
   "source": [
    "rank = [i for i in range(1, 101)]\n",
    "\n",
    "for date in tqdm(date_list):\n",
    "    get_date = date.strftime('%Y-%m-%d')\n",
    "    # sub={혜택별 dict값 변경}\n",
    "    drv.get(f'https://www.card-gorilla.com/chart/top100?term=monthly&date={get_date}')\n",
    "    time.sleep(7)\n",
    "    \n",
    "    soup = BeautifulSoup(drv.page_source, 'html.parser')\n",
    "    ranks = soup.find_all(class_='rk_lst')\n",
    "    \n",
    "    name_list = []\n",
    "    company_list = []\n",
    "    href_list = []\n",
    "    \n",
    "    for i in range(len(ranks)):\n",
    "        name_list.append(ranks[i].find(class_='card_name').text.strip())\n",
    "        company_list.append(ranks[i].find(class_='corp_name').text)\n",
    "        try:\n",
    "            href_list.append('https://card-gorilla.com'+ranks[i].find('a')['href'])\n",
    "        except:\n",
    "            href_list.append('None')\n",
    "            \n",
    "    d_list = [get_date for i in range(100)]\n",
    "    \n",
    "    df = pd.DataFrame({'date':d_list, 'rank':rank, 'card_name':name_list, \n",
    "                       'card_company':company_list, 'card_href':href_list})\n",
    "    \n",
    "    if get_date == '2019-01-31':\n",
    "        concat_df = df.copy()\n",
    "    else:\n",
    "        concat_df = pd.concat([concat_df, df], ignore_index=True)\n",
    "    time.sleep(2)\n",
    "\n",
    "drv.close()"
   ]
  },
  {
   "cell_type": "code",
   "execution_count": 105,
   "id": "1ed45606-cc99-41b8-83a0-2f5c4f244008",
   "metadata": {
    "tags": []
   },
   "outputs": [
    {
     "data": {
      "text/html": [
       "<div>\n",
       "<style scoped>\n",
       "    .dataframe tbody tr th:only-of-type {\n",
       "        vertical-align: middle;\n",
       "    }\n",
       "\n",
       "    .dataframe tbody tr th {\n",
       "        vertical-align: top;\n",
       "    }\n",
       "\n",
       "    .dataframe thead th {\n",
       "        text-align: right;\n",
       "    }\n",
       "</style>\n",
       "<table border=\"1\" class=\"dataframe\">\n",
       "  <thead>\n",
       "    <tr style=\"text-align: right;\">\n",
       "      <th></th>\n",
       "      <th>date</th>\n",
       "      <th>rank</th>\n",
       "      <th>card_name</th>\n",
       "      <th>card_company</th>\n",
       "      <th>card_href</th>\n",
       "    </tr>\n",
       "  </thead>\n",
       "  <tbody>\n",
       "    <tr>\n",
       "      <th>0</th>\n",
       "      <td>2019-01-31</td>\n",
       "      <td>1</td>\n",
       "      <td>LIKIT FUN 카드</td>\n",
       "      <td>롯데카드</td>\n",
       "      <td>None</td>\n",
       "    </tr>\n",
       "    <tr>\n",
       "      <th>1</th>\n",
       "      <td>2019-01-31</td>\n",
       "      <td>2</td>\n",
       "      <td>삼성카드 taptap O</td>\n",
       "      <td>삼성카드</td>\n",
       "      <td>https://card-gorilla.com/card/detail/51</td>\n",
       "    </tr>\n",
       "    <tr>\n",
       "      <th>2</th>\n",
       "      <td>2019-01-31</td>\n",
       "      <td>3</td>\n",
       "      <td>신한카드 Deep Dream</td>\n",
       "      <td>신한카드</td>\n",
       "      <td>https://card-gorilla.com/card/detail/32</td>\n",
       "    </tr>\n",
       "    <tr>\n",
       "      <th>3</th>\n",
       "      <td>2019-01-31</td>\n",
       "      <td>4</td>\n",
       "      <td>NEW 씨티 클리어</td>\n",
       "      <td>씨티카드</td>\n",
       "      <td>https://card-gorilla.com/card/detail/101</td>\n",
       "    </tr>\n",
       "    <tr>\n",
       "      <th>4</th>\n",
       "      <td>2019-01-31</td>\n",
       "      <td>5</td>\n",
       "      <td>DA@카드의정석</td>\n",
       "      <td>우리카드</td>\n",
       "      <td>https://card-gorilla.com/card/detail/87</td>\n",
       "    </tr>\n",
       "    <tr>\n",
       "      <th>...</th>\n",
       "      <td>...</td>\n",
       "      <td>...</td>\n",
       "      <td>...</td>\n",
       "      <td>...</td>\n",
       "      <td>...</td>\n",
       "    </tr>\n",
       "    <tr>\n",
       "      <th>6195</th>\n",
       "      <td>2024-02-29</td>\n",
       "      <td>96</td>\n",
       "      <td>마일앤조이카드(아시아나)</td>\n",
       "      <td>IBK기업은행</td>\n",
       "      <td>https://card-gorilla.com/card/detail/268</td>\n",
       "    </tr>\n",
       "    <tr>\n",
       "      <th>6196</th>\n",
       "      <td>2024-02-29</td>\n",
       "      <td>97</td>\n",
       "      <td>LOCA LIKIT Shop</td>\n",
       "      <td>롯데카드</td>\n",
       "      <td>https://card-gorilla.com/card/detail/2264</td>\n",
       "    </tr>\n",
       "    <tr>\n",
       "      <th>6197</th>\n",
       "      <td>2024-02-29</td>\n",
       "      <td>98</td>\n",
       "      <td>LOCA LIKIT Play</td>\n",
       "      <td>롯데카드</td>\n",
       "      <td>https://card-gorilla.com/card/detail/2263</td>\n",
       "    </tr>\n",
       "    <tr>\n",
       "      <th>6198</th>\n",
       "      <td>2024-02-29</td>\n",
       "      <td>99</td>\n",
       "      <td>American Express Blue</td>\n",
       "      <td>삼성카드</td>\n",
       "      <td>https://card-gorilla.com/card/detail/45</td>\n",
       "    </tr>\n",
       "    <tr>\n",
       "      <th>6199</th>\n",
       "      <td>2024-02-29</td>\n",
       "      <td>100</td>\n",
       "      <td>K-패스 (신용)</td>\n",
       "      <td>IBK기업은행</td>\n",
       "      <td>https://card-gorilla.com/card/detail/2559</td>\n",
       "    </tr>\n",
       "  </tbody>\n",
       "</table>\n",
       "<p>6200 rows × 5 columns</p>\n",
       "</div>"
      ],
      "text/plain": [
       "            date  rank              card_name card_company  \\\n",
       "0     2019-01-31     1           LIKIT FUN 카드         롯데카드   \n",
       "1     2019-01-31     2          삼성카드 taptap O         삼성카드   \n",
       "2     2019-01-31     3        신한카드 Deep Dream         신한카드   \n",
       "3     2019-01-31     4             NEW 씨티 클리어         씨티카드   \n",
       "4     2019-01-31     5               DA@카드의정석         우리카드   \n",
       "...          ...   ...                    ...          ...   \n",
       "6195  2024-02-29    96          마일앤조이카드(아시아나)      IBK기업은행   \n",
       "6196  2024-02-29    97        LOCA LIKIT Shop         롯데카드   \n",
       "6197  2024-02-29    98        LOCA LIKIT Play         롯데카드   \n",
       "6198  2024-02-29    99  American Express Blue         삼성카드   \n",
       "6199  2024-02-29   100              K-패스 (신용)      IBK기업은행   \n",
       "\n",
       "                                      card_href  \n",
       "0                                          None  \n",
       "1       https://card-gorilla.com/card/detail/51  \n",
       "2       https://card-gorilla.com/card/detail/32  \n",
       "3      https://card-gorilla.com/card/detail/101  \n",
       "4       https://card-gorilla.com/card/detail/87  \n",
       "...                                         ...  \n",
       "6195   https://card-gorilla.com/card/detail/268  \n",
       "6196  https://card-gorilla.com/card/detail/2264  \n",
       "6197  https://card-gorilla.com/card/detail/2263  \n",
       "6198    https://card-gorilla.com/card/detail/45  \n",
       "6199  https://card-gorilla.com/card/detail/2559  \n",
       "\n",
       "[6200 rows x 5 columns]"
      ]
     },
     "execution_count": 105,
     "metadata": {},
     "output_type": "execute_result"
    }
   ],
   "source": [
    "concat_df"
   ]
  },
  {
   "cell_type": "code",
   "execution_count": 120,
   "id": "55d30866-3dfb-4360-8296-7dcff30e314e",
   "metadata": {
    "tags": []
   },
   "outputs": [
    {
     "name": "stderr",
     "output_type": "stream",
     "text": [
      "C:\\Users\\eunkk\\AppData\\Local\\Temp\\ipykernel_8644\\2968069955.py:2: SettingWithCopyWarning: \n",
      "A value is trying to be set on a copy of a slice from a DataFrame.\n",
      "Try using .loc[row_indexer,col_indexer] = value instead\n",
      "\n",
      "See the caveats in the documentation: https://pandas.pydata.org/pandas-docs/stable/user_guide/indexing.html#returning-a-view-versus-a-copy\n",
      "  d['chart_in']=1\n"
     ]
    },
    {
     "data": {
      "text/html": [
       "<div>\n",
       "<style scoped>\n",
       "    .dataframe tbody tr th:only-of-type {\n",
       "        vertical-align: middle;\n",
       "    }\n",
       "\n",
       "    .dataframe tbody tr th {\n",
       "        vertical-align: top;\n",
       "    }\n",
       "\n",
       "    .dataframe thead th {\n",
       "        text-align: right;\n",
       "    }\n",
       "</style>\n",
       "<table border=\"1\" class=\"dataframe\">\n",
       "  <thead>\n",
       "    <tr style=\"text-align: right;\">\n",
       "      <th></th>\n",
       "      <th>date</th>\n",
       "      <th>rank</th>\n",
       "      <th>card_name</th>\n",
       "      <th>card_company</th>\n",
       "      <th>card_href</th>\n",
       "      <th>chart_in</th>\n",
       "    </tr>\n",
       "  </thead>\n",
       "  <tbody>\n",
       "    <tr>\n",
       "      <th>0</th>\n",
       "      <td>2019-01-31</td>\n",
       "      <td>1</td>\n",
       "      <td>LIKIT FUN 카드</td>\n",
       "      <td>롯데카드</td>\n",
       "      <td>None</td>\n",
       "      <td>1</td>\n",
       "    </tr>\n",
       "    <tr>\n",
       "      <th>1</th>\n",
       "      <td>2019-01-31</td>\n",
       "      <td>2</td>\n",
       "      <td>삼성카드 taptap O</td>\n",
       "      <td>삼성카드</td>\n",
       "      <td>https://card-gorilla.com/card/detail/51</td>\n",
       "      <td>1</td>\n",
       "    </tr>\n",
       "    <tr>\n",
       "      <th>2</th>\n",
       "      <td>2019-01-31</td>\n",
       "      <td>3</td>\n",
       "      <td>신한카드 Deep Dream</td>\n",
       "      <td>신한카드</td>\n",
       "      <td>https://card-gorilla.com/card/detail/32</td>\n",
       "      <td>1</td>\n",
       "    </tr>\n",
       "    <tr>\n",
       "      <th>3</th>\n",
       "      <td>2019-01-31</td>\n",
       "      <td>4</td>\n",
       "      <td>NEW 씨티 클리어</td>\n",
       "      <td>씨티카드</td>\n",
       "      <td>https://card-gorilla.com/card/detail/101</td>\n",
       "      <td>1</td>\n",
       "    </tr>\n",
       "    <tr>\n",
       "      <th>4</th>\n",
       "      <td>2019-01-31</td>\n",
       "      <td>5</td>\n",
       "      <td>DA@카드의정석</td>\n",
       "      <td>우리카드</td>\n",
       "      <td>https://card-gorilla.com/card/detail/87</td>\n",
       "      <td>1</td>\n",
       "    </tr>\n",
       "    <tr>\n",
       "      <th>...</th>\n",
       "      <td>...</td>\n",
       "      <td>...</td>\n",
       "      <td>...</td>\n",
       "      <td>...</td>\n",
       "      <td>...</td>\n",
       "      <td>...</td>\n",
       "    </tr>\n",
       "    <tr>\n",
       "      <th>6151</th>\n",
       "      <td>2024-02-29</td>\n",
       "      <td>52</td>\n",
       "      <td>GOAT BC 바로카드</td>\n",
       "      <td>BC 바로카드</td>\n",
       "      <td>https://card-gorilla.com/card/detail/2644</td>\n",
       "      <td>1</td>\n",
       "    </tr>\n",
       "    <tr>\n",
       "      <th>6178</th>\n",
       "      <td>2024-02-29</td>\n",
       "      <td>79</td>\n",
       "      <td>DA카드의정석 Ⅱ</td>\n",
       "      <td>우리카드</td>\n",
       "      <td>https://card-gorilla.com/card/detail/2655</td>\n",
       "      <td>1</td>\n",
       "    </tr>\n",
       "    <tr>\n",
       "      <th>6182</th>\n",
       "      <td>2024-02-29</td>\n",
       "      <td>83</td>\n",
       "      <td>현대카드ZERO Edition3(할인형)</td>\n",
       "      <td>현대카드</td>\n",
       "      <td>https://card-gorilla.com/card/detail/2646</td>\n",
       "      <td>1</td>\n",
       "    </tr>\n",
       "    <tr>\n",
       "      <th>6188</th>\n",
       "      <td>2024-02-29</td>\n",
       "      <td>89</td>\n",
       "      <td>JADE Classic</td>\n",
       "      <td>하나카드</td>\n",
       "      <td>https://card-gorilla.com/card/detail/2657</td>\n",
       "      <td>1</td>\n",
       "    </tr>\n",
       "    <tr>\n",
       "      <th>6192</th>\n",
       "      <td>2024-02-29</td>\n",
       "      <td>93</td>\n",
       "      <td>K-22(Mileage)</td>\n",
       "      <td>IBK기업은행</td>\n",
       "      <td>https://card-gorilla.com/card/detail/2536</td>\n",
       "      <td>1</td>\n",
       "    </tr>\n",
       "  </tbody>\n",
       "</table>\n",
       "<p>370 rows × 6 columns</p>\n",
       "</div>"
      ],
      "text/plain": [
       "            date  rank               card_name card_company  \\\n",
       "0     2019-01-31     1            LIKIT FUN 카드         롯데카드   \n",
       "1     2019-01-31     2           삼성카드 taptap O         삼성카드   \n",
       "2     2019-01-31     3         신한카드 Deep Dream         신한카드   \n",
       "3     2019-01-31     4              NEW 씨티 클리어         씨티카드   \n",
       "4     2019-01-31     5                DA@카드의정석         우리카드   \n",
       "...          ...   ...                     ...          ...   \n",
       "6151  2024-02-29    52            GOAT BC 바로카드      BC 바로카드   \n",
       "6178  2024-02-29    79               DA카드의정석 Ⅱ         우리카드   \n",
       "6182  2024-02-29    83  현대카드ZERO Edition3(할인형)         현대카드   \n",
       "6188  2024-02-29    89            JADE Classic         하나카드   \n",
       "6192  2024-02-29    93           K-22(Mileage)      IBK기업은행   \n",
       "\n",
       "                                      card_href  chart_in  \n",
       "0                                          None         1  \n",
       "1       https://card-gorilla.com/card/detail/51         1  \n",
       "2       https://card-gorilla.com/card/detail/32         1  \n",
       "3      https://card-gorilla.com/card/detail/101         1  \n",
       "4       https://card-gorilla.com/card/detail/87         1  \n",
       "...                                         ...       ...  \n",
       "6151  https://card-gorilla.com/card/detail/2644         1  \n",
       "6178  https://card-gorilla.com/card/detail/2655         1  \n",
       "6182  https://card-gorilla.com/card/detail/2646         1  \n",
       "6188  https://card-gorilla.com/card/detail/2657         1  \n",
       "6192  https://card-gorilla.com/card/detail/2536         1  \n",
       "\n",
       "[370 rows x 6 columns]"
      ]
     },
     "execution_count": 120,
     "metadata": {},
     "output_type": "execute_result"
    }
   ],
   "source": [
    "d = concat_df.drop_duplicates(['card_company', 'card_name'])\n",
    "d['chart_in']=1\n",
    "d"
   ]
  },
  {
   "cell_type": "code",
   "execution_count": 157,
   "id": "391c1191-7da2-481d-9593-a896d9774073",
   "metadata": {
    "tags": []
   },
   "outputs": [],
   "source": [
    "all_df.drop('chart_in', axis=1, inplace=True)"
   ]
  },
  {
   "cell_type": "code",
   "execution_count": 158,
   "id": "7dd3fa00-b87b-4504-ad60-e3aa572891d3",
   "metadata": {
    "tags": []
   },
   "outputs": [],
   "source": [
    "all_df = pd.merge(all_df, d[['card_company', 'card_name', 'chart_in']], on=['card_company', 'card_name'], how='outer')\n",
    "idx = all_df[all_df['chart_in']!=1]['chart_in'].index\n",
    "all_df.iloc[idx, -1] = 0"
   ]
  },
  {
   "cell_type": "code",
   "execution_count": 130,
   "id": "cab277f0-9b62-4800-be8e-5203ba6757cb",
   "metadata": {
    "tags": []
   },
   "outputs": [],
   "source": [
    "rank_mean = concat_df.groupby(['card_company', 'card_name'])[['rank']].agg('mean').reset_index()\n",
    "all_df = pd.merge(df, rank_mean, on=['card_company', 'card_name'], how='outer')\n",
    "idx = all_df[all_df['rank'].isnull()==True]['rank'].index\n",
    "all_df.iloc[idx, -2] = 0"
   ]
  },
  {
   "cell_type": "code",
   "execution_count": 147,
   "id": "91be656c-d2d5-434e-9725-9bdb894b53b4",
   "metadata": {
    "tags": []
   },
   "outputs": [],
   "source": [
    "all_df['perform'] = [text.replace('전월실적', '').replace('만원 이상', '').replace('없음', '').strip() for text in all_df['perform']]\n",
    "all_df['perform'] = all_df['perform'].replace('', 0)\n",
    "all_df['perform'] = all_df['perform'].astype('int')"
   ]
  },
  {
   "cell_type": "code",
   "execution_count": 160,
   "id": "d1004252-953b-41b6-885a-3c2e47ce3195",
   "metadata": {
    "tags": []
   },
   "outputs": [
    {
     "data": {
      "text/plain": [
       "chart_in\n",
       "0.0    617\n",
       "1.0    370\n",
       "Name: count, dtype: int64"
      ]
     },
     "execution_count": 160,
     "metadata": {},
     "output_type": "execute_result"
    }
   ],
   "source": [
    "all_df['chart_in'].value_counts()"
   ]
  },
  {
   "cell_type": "code",
   "execution_count": 165,
   "id": "d9a1532e-f251-492f-9179-2813ff18065c",
   "metadata": {
    "tags": []
   },
   "outputs": [],
   "source": [
    "idx = all_df[all_df['promotions'].isnull()==True].index\n",
    "all_df.drop(idx, inplace=True)"
   ]
  },
  {
   "cell_type": "code",
   "execution_count": 166,
   "id": "358efa7f-0bd3-4f3c-a93f-b37ae9fb73bd",
   "metadata": {
    "tags": []
   },
   "outputs": [],
   "source": [
    "all_df.to_csv('project_data/all_credit_info_4years.csv', encoding='utf-8', index=False)"
   ]
  },
  {
   "cell_type": "code",
   "execution_count": 106,
   "id": "93456ce6-0759-4061-9a58-b813b41fb548",
   "metadata": {
    "tags": []
   },
   "outputs": [],
   "source": [
    "# save\n",
    "concat_df.to_csv('project_data/credit_card_top100_4year.csv', encoding='utf-8', index=False)"
   ]
  },
  {
   "cell_type": "code",
   "execution_count": 7,
   "id": "25506fa8-d257-421a-9d77-31a0d8777caf",
   "metadata": {
    "tags": []
   },
   "outputs": [
    {
     "name": "stdout",
     "output_type": "stream",
     "text": [
      "<class 'pandas.core.frame.DataFrame'>\n",
      "RangeIndex: 6200 entries, 0 to 6199\n",
      "Data columns (total 5 columns):\n",
      " #   Column        Non-Null Count  Dtype \n",
      "---  ------        --------------  ----- \n",
      " 0   date          6200 non-null   object\n",
      " 1   rank          6200 non-null   int64 \n",
      " 2   card_name     6200 non-null   object\n",
      " 3   card_company  6200 non-null   object\n",
      " 4   card_href     5159 non-null   object\n",
      "dtypes: int64(1), object(4)\n",
      "memory usage: 242.3+ KB\n"
     ]
    }
   ],
   "source": [
    "concat_df.info()"
   ]
  },
  {
   "cell_type": "code",
   "execution_count": 11,
   "id": "de02c015-2dc0-40f3-b434-10cd3c0f0357",
   "metadata": {
    "tags": []
   },
   "outputs": [
    {
     "data": {
      "text/html": [
       "<div>\n",
       "<style scoped>\n",
       "    .dataframe tbody tr th:only-of-type {\n",
       "        vertical-align: middle;\n",
       "    }\n",
       "\n",
       "    .dataframe tbody tr th {\n",
       "        vertical-align: top;\n",
       "    }\n",
       "\n",
       "    .dataframe thead th {\n",
       "        text-align: right;\n",
       "    }\n",
       "</style>\n",
       "<table border=\"1\" class=\"dataframe\">\n",
       "  <thead>\n",
       "    <tr style=\"text-align: right;\">\n",
       "      <th></th>\n",
       "      <th>date</th>\n",
       "      <th>card_name</th>\n",
       "      <th>card_company</th>\n",
       "      <th>card_href</th>\n",
       "    </tr>\n",
       "  </thead>\n",
       "  <tbody>\n",
       "    <tr>\n",
       "      <th>count</th>\n",
       "      <td>6200</td>\n",
       "      <td>6200</td>\n",
       "      <td>6200</td>\n",
       "      <td>5159</td>\n",
       "    </tr>\n",
       "    <tr>\n",
       "      <th>unique</th>\n",
       "      <td>62</td>\n",
       "      <td>370</td>\n",
       "      <td>14</td>\n",
       "      <td>306</td>\n",
       "    </tr>\n",
       "    <tr>\n",
       "      <th>top</th>\n",
       "      <td>2019-01-31</td>\n",
       "      <td>아시아나 신한카드 Air 1.5</td>\n",
       "      <td>신한카드</td>\n",
       "      <td>https://card-gorilla.com/card/detail/51</td>\n",
       "    </tr>\n",
       "    <tr>\n",
       "      <th>freq</th>\n",
       "      <td>100</td>\n",
       "      <td>62</td>\n",
       "      <td>899</td>\n",
       "      <td>62</td>\n",
       "    </tr>\n",
       "  </tbody>\n",
       "</table>\n",
       "</div>"
      ],
      "text/plain": [
       "              date          card_name card_company  \\\n",
       "count         6200               6200         6200   \n",
       "unique          62                370           14   \n",
       "top     2019-01-31  아시아나 신한카드 Air 1.5         신한카드   \n",
       "freq           100                 62          899   \n",
       "\n",
       "                                      card_href  \n",
       "count                                      5159  \n",
       "unique                                      306  \n",
       "top     https://card-gorilla.com/card/detail/51  \n",
       "freq                                         62  "
      ]
     },
     "execution_count": 11,
     "metadata": {},
     "output_type": "execute_result"
    }
   ],
   "source": [
    "concat_df.describe(include='object')"
   ]
  },
  {
   "cell_type": "markdown",
   "id": "788f30b1-c0a9-4467-a20c-8bf41f414e45",
   "metadata": {
    "tags": []
   },
   "source": [
    "## 파일 합치기"
   ]
  },
  {
   "cell_type": "code",
   "execution_count": 318,
   "id": "7b7e0109-9353-4718-a359-9b7e2721933f",
   "metadata": {
    "tags": []
   },
   "outputs": [],
   "source": [
    "# 전체 카드 정보 및 순위 파일 합치기\n",
    "# df_list = glob.glob('project_data/*_info.csv')\n",
    "df_list = glob.glob('project_data/*_top10.csv')\n",
    "\n",
    "for i in range(len(df_list)):\n",
    "    if i == 0:\n",
    "        all_df = pd.read_csv(df_list[i], encoding='euc-kr')\n",
    "    if df_list[i] == 'project_data\\\\여행_바우처_top10.csv':\n",
    "        all_df = pd.concat([all_df, pd.read_csv(df_list[i])], ignore_index=True)\n",
    "    else:\n",
    "        all_df = pd.concat([all_df, pd.read_csv(df_list[i], encoding='euc-kr')], ignore_index=True)\n",
    "\n",
    "all_df.to_csv('project_data/card_promotion_top10_all.csv', index=False)"
   ]
  },
  {
   "cell_type": "markdown",
   "id": "5af44263-ed48-4fd9-9822-0319d96b9ff9",
   "metadata": {
    "tags": []
   },
   "source": [
    "## 4. 전체 신용카드"
   ]
  },
  {
   "cell_type": "markdown",
   "id": "a3b94f7f-73e0-4021-8d69-417cbdd2c392",
   "metadata": {},
   "source": [
    "### 4-1. href 수집"
   ]
  },
  {
   "cell_type": "code",
   "execution_count": 2,
   "id": "5446deb1-a9cc-4c9f-a729-6632420a1772",
   "metadata": {},
   "outputs": [],
   "source": [
    "# 크롬창 띄우기\n",
    "chrome_options = webdriver.ChromeOptions()\n",
    "chrome_options.add_argument('--incognito') # 시크릿 모드로 열기\n",
    "drv = webdriver.Chrome(service=Service(ChromeDriverManager().install()), options = chrome_options)"
   ]
  },
  {
   "cell_type": "code",
   "execution_count": 3,
   "id": "7077148e-3a63-440d-a6b1-f698c45e61f8",
   "metadata": {},
   "outputs": [],
   "source": [
    "drv.get(f'https://www.card-gorilla.com/search/card?cate=CRD')"
   ]
  },
  {
   "cell_type": "code",
   "execution_count": 16,
   "id": "aa11e6fe-da17-4473-9e1f-37a0baf87668",
   "metadata": {
    "collapsed": true,
    "jupyter": {
     "outputs_hidden": true
    },
    "tags": []
   },
   "outputs": [
    {
     "ename": "ElementNotInteractableException",
     "evalue": "Message: element not interactable\n  (Session info: chrome=124.0.6367.91)\nStacktrace:\n\tGetHandleVerifier [0x0033C113+48259]\n\t(No symbol) [0x002CCA41]\n\t(No symbol) [0x001C08A3]\n\t(No symbol) [0x00201A91]\n\t(No symbol) [0x001F7389]\n\t(No symbol) [0x00220D9C]\n\t(No symbol) [0x001F6E25]\n\t(No symbol) [0x00221034]\n\t(No symbol) [0x00239B9C]\n\t(No symbol) [0x00220B36]\n\t(No symbol) [0x001F570D]\n\t(No symbol) [0x001F62CD]\n\tGetHandleVerifier [0x005F6533+2908323]\n\tGetHandleVerifier [0x00633B4B+3159739]\n\tGetHandleVerifier [0x003D505B+674763]\n\tGetHandleVerifier [0x003DB21C+699788]\n\t(No symbol) [0x002D6244]\n\t(No symbol) [0x002D2298]\n\t(No symbol) [0x002D242C]\n\t(No symbol) [0x002C4BB0]\n\tBaseThreadInitThunk [0x75E07BA9+25]\n\tRtlInitializeExceptionChain [0x7729BE3B+107]\n\tRtlClearBits [0x7729BDBF+191]\n",
     "output_type": "error",
     "traceback": [
      "\u001b[1;31m---------------------------------------------------------------------------\u001b[0m",
      "\u001b[1;31mElementNotInteractableException\u001b[0m           Traceback (most recent call last)",
      "Cell \u001b[1;32mIn[16], line 2\u001b[0m\n\u001b[0;32m      1\u001b[0m \u001b[38;5;28;01mfor\u001b[39;00m i \u001b[38;5;129;01min\u001b[39;00m \u001b[38;5;28mrange\u001b[39m(\u001b[38;5;241m93\u001b[39m):\n\u001b[1;32m----> 2\u001b[0m     drv\u001b[38;5;241m.\u001b[39mfind_element(By\u001b[38;5;241m.\u001b[39mCLASS_NAME, \u001b[38;5;124m'\u001b[39m\u001b[38;5;124mlst_more\u001b[39m\u001b[38;5;124m'\u001b[39m)\u001b[38;5;241m.\u001b[39mclick()\n\u001b[0;32m      3\u001b[0m     time\u001b[38;5;241m.\u001b[39msleep(\u001b[38;5;241m2\u001b[39m)\n",
      "File \u001b[1;32m~\\anaconda3\\Lib\\site-packages\\selenium\\webdriver\\remote\\webelement.py:94\u001b[0m, in \u001b[0;36mWebElement.click\u001b[1;34m(self)\u001b[0m\n\u001b[0;32m     92\u001b[0m \u001b[38;5;28;01mdef\u001b[39;00m \u001b[38;5;21mclick\u001b[39m(\u001b[38;5;28mself\u001b[39m) \u001b[38;5;241m-\u001b[39m\u001b[38;5;241m>\u001b[39m \u001b[38;5;28;01mNone\u001b[39;00m:\n\u001b[0;32m     93\u001b[0m \u001b[38;5;250m    \u001b[39m\u001b[38;5;124;03m\"\"\"Clicks the element.\"\"\"\u001b[39;00m\n\u001b[1;32m---> 94\u001b[0m     \u001b[38;5;28mself\u001b[39m\u001b[38;5;241m.\u001b[39m_execute(Command\u001b[38;5;241m.\u001b[39mCLICK_ELEMENT)\n",
      "File \u001b[1;32m~\\anaconda3\\Lib\\site-packages\\selenium\\webdriver\\remote\\webelement.py:395\u001b[0m, in \u001b[0;36mWebElement._execute\u001b[1;34m(self, command, params)\u001b[0m\n\u001b[0;32m    393\u001b[0m     params \u001b[38;5;241m=\u001b[39m {}\n\u001b[0;32m    394\u001b[0m params[\u001b[38;5;124m\"\u001b[39m\u001b[38;5;124mid\u001b[39m\u001b[38;5;124m\"\u001b[39m] \u001b[38;5;241m=\u001b[39m \u001b[38;5;28mself\u001b[39m\u001b[38;5;241m.\u001b[39m_id\n\u001b[1;32m--> 395\u001b[0m \u001b[38;5;28;01mreturn\u001b[39;00m \u001b[38;5;28mself\u001b[39m\u001b[38;5;241m.\u001b[39m_parent\u001b[38;5;241m.\u001b[39mexecute(command, params)\n",
      "File \u001b[1;32m~\\anaconda3\\Lib\\site-packages\\selenium\\webdriver\\remote\\webdriver.py:347\u001b[0m, in \u001b[0;36mWebDriver.execute\u001b[1;34m(self, driver_command, params)\u001b[0m\n\u001b[0;32m    345\u001b[0m response \u001b[38;5;241m=\u001b[39m \u001b[38;5;28mself\u001b[39m\u001b[38;5;241m.\u001b[39mcommand_executor\u001b[38;5;241m.\u001b[39mexecute(driver_command, params)\n\u001b[0;32m    346\u001b[0m \u001b[38;5;28;01mif\u001b[39;00m response:\n\u001b[1;32m--> 347\u001b[0m     \u001b[38;5;28mself\u001b[39m\u001b[38;5;241m.\u001b[39merror_handler\u001b[38;5;241m.\u001b[39mcheck_response(response)\n\u001b[0;32m    348\u001b[0m     response[\u001b[38;5;124m\"\u001b[39m\u001b[38;5;124mvalue\u001b[39m\u001b[38;5;124m\"\u001b[39m] \u001b[38;5;241m=\u001b[39m \u001b[38;5;28mself\u001b[39m\u001b[38;5;241m.\u001b[39m_unwrap_value(response\u001b[38;5;241m.\u001b[39mget(\u001b[38;5;124m\"\u001b[39m\u001b[38;5;124mvalue\u001b[39m\u001b[38;5;124m\"\u001b[39m, \u001b[38;5;28;01mNone\u001b[39;00m))\n\u001b[0;32m    349\u001b[0m     \u001b[38;5;28;01mreturn\u001b[39;00m response\n",
      "File \u001b[1;32m~\\anaconda3\\Lib\\site-packages\\selenium\\webdriver\\remote\\errorhandler.py:229\u001b[0m, in \u001b[0;36mErrorHandler.check_response\u001b[1;34m(self, response)\u001b[0m\n\u001b[0;32m    227\u001b[0m         alert_text \u001b[38;5;241m=\u001b[39m value[\u001b[38;5;124m\"\u001b[39m\u001b[38;5;124malert\u001b[39m\u001b[38;5;124m\"\u001b[39m]\u001b[38;5;241m.\u001b[39mget(\u001b[38;5;124m\"\u001b[39m\u001b[38;5;124mtext\u001b[39m\u001b[38;5;124m\"\u001b[39m)\n\u001b[0;32m    228\u001b[0m     \u001b[38;5;28;01mraise\u001b[39;00m exception_class(message, screen, stacktrace, alert_text)  \u001b[38;5;66;03m# type: ignore[call-arg]  # mypy is not smart enough here\u001b[39;00m\n\u001b[1;32m--> 229\u001b[0m \u001b[38;5;28;01mraise\u001b[39;00m exception_class(message, screen, stacktrace)\n",
      "\u001b[1;31mElementNotInteractableException\u001b[0m: Message: element not interactable\n  (Session info: chrome=124.0.6367.91)\nStacktrace:\n\tGetHandleVerifier [0x0033C113+48259]\n\t(No symbol) [0x002CCA41]\n\t(No symbol) [0x001C08A3]\n\t(No symbol) [0x00201A91]\n\t(No symbol) [0x001F7389]\n\t(No symbol) [0x00220D9C]\n\t(No symbol) [0x001F6E25]\n\t(No symbol) [0x00221034]\n\t(No symbol) [0x00239B9C]\n\t(No symbol) [0x00220B36]\n\t(No symbol) [0x001F570D]\n\t(No symbol) [0x001F62CD]\n\tGetHandleVerifier [0x005F6533+2908323]\n\tGetHandleVerifier [0x00633B4B+3159739]\n\tGetHandleVerifier [0x003D505B+674763]\n\tGetHandleVerifier [0x003DB21C+699788]\n\t(No symbol) [0x002D6244]\n\t(No symbol) [0x002D2298]\n\t(No symbol) [0x002D242C]\n\t(No symbol) [0x002C4BB0]\n\tBaseThreadInitThunk [0x75E07BA9+25]\n\tRtlInitializeExceptionChain [0x7729BE3B+107]\n\tRtlClearBits [0x7729BDBF+191]\n"
     ]
    }
   ],
   "source": [
    "for i in range(92):\n",
    "    drv.find_element(By.CLASS_NAME, 'lst_more').click()\n",
    "    time.sleep(2)"
   ]
  },
  {
   "cell_type": "code",
   "execution_count": 18,
   "id": "5d681c2b-4d62-4771-82de-e077397f699f",
   "metadata": {
    "tags": []
   },
   "outputs": [],
   "source": [
    "soup = BeautifulSoup(drv.page_source, 'html.parser')\n",
    "card_list = soup.find(class_='search_card').find(class_='con_area').find_all(class_='card-container')"
   ]
  },
  {
   "cell_type": "code",
   "execution_count": 27,
   "id": "4a0d197b-51c2-46b5-81f1-11e8501693db",
   "metadata": {
    "tags": []
   },
   "outputs": [],
   "source": [
    "card_name = []\n",
    "card_company = []\n",
    "href = []\n",
    "\n",
    "for html in card_list:\n",
    "    card_name.append(html.find(class_='card_name').text)\n",
    "    card_company.append(html.find(class_='card_corp').text)\n",
    "    href.append('https://www.card-gorilla.com'+html.find(class_='b_view')['href'])"
   ]
  },
  {
   "cell_type": "code",
   "execution_count": 32,
   "id": "14d63933-37a0-49b2-a5c0-479dc70aabaf",
   "metadata": {
    "tags": []
   },
   "outputs": [],
   "source": [
    "all_data = pd.DataFrame({'card_name':card_name, 'card_company':card_company, 'href':href})\n",
    "all_data.to_csv('project_data/all_card_href.csv', index=False)"
   ]
  },
  {
   "cell_type": "markdown",
   "id": "1336eea7-1b2b-4064-b777-ae935076f9a4",
   "metadata": {
    "tags": []
   },
   "source": [
    "### 4-2. 카드 정보 수집"
   ]
  },
  {
   "cell_type": "code",
   "execution_count": 17,
   "id": "357e5a9f-abe3-4e1d-a7ba-0174b5d82a46",
   "metadata": {
    "tags": []
   },
   "outputs": [
    {
     "data": {
      "text/plain": [
       "(                         card_name card_company  \\\n",
       " 0                     신한카드 Mr.Life         신한카드   \n",
       " 1                 KB국민 My WE:SH 카드       KB국민카드   \n",
       " 2  삼성카드 & MILEAGE PLATINUM (스카이패스)         삼성카드   \n",
       " \n",
       "                                             href  \n",
       " 0    https://www.card-gorilla.com/card/detail/13  \n",
       " 1  https://www.card-gorilla.com/card/detail/2441  \n",
       " 2    https://www.card-gorilla.com/card/detail/49  ,\n",
       "                 card_name card_company  \\\n",
       " 920  현대카드ZERO MOBILE(할인형)         현대카드   \n",
       " 921        현대카드ZERO(포인트형)         현대카드   \n",
       " 922         현대카드ZERO(할인형)         현대카드   \n",
       " \n",
       "                                              href  \n",
       " 920  https://www.card-gorilla.com/card/detail/419  \n",
       " 921  https://www.card-gorilla.com/card/detail/420  \n",
       " 922  https://www.card-gorilla.com/card/detail/410  )"
      ]
     },
     "execution_count": 17,
     "metadata": {},
     "output_type": "execute_result"
    }
   ],
   "source": [
    "df = pd.read_csv('project_data/all_card_href.csv')\n",
    "df.drop_duplicates('href', inplace=True, ignore_index=True)\n",
    "df = df[df['href'].isnull()==False]\n",
    "df.reset_index(inplace=True, drop=True)\n",
    "df.head(3), df.tail(3)"
   ]
  },
  {
   "cell_type": "code",
   "execution_count": 22,
   "id": "5de1539e-a16c-4ae8-b04f-e15c787685b6",
   "metadata": {
    "tags": []
   },
   "outputs": [
    {
     "data": {
      "text/plain": [
       "card_name               American Express® Green Card Edition2\n",
       "card_company                                             현대카드\n",
       "href            https://www.card-gorilla.com/card/detail/2662\n",
       "Name: 42, dtype: object"
      ]
     },
     "execution_count": 22,
     "metadata": {},
     "output_type": "execute_result"
    }
   ],
   "source": [
    "df.iloc[42]"
   ]
  },
  {
   "cell_type": "code",
   "execution_count": 34,
   "id": "b97e6ebb-8f6f-4244-a17c-75603b785887",
   "metadata": {
    "tags": []
   },
   "outputs": [],
   "source": [
    "# 크롬창 띄우기\n",
    "chrome_options = webdriver.ChromeOptions()\n",
    "chrome_options.add_argument('--incognito') # 시크릿 모드로 열기\n",
    "drv = webdriver.Chrome(service=Service(ChromeDriverManager().install()), options = chrome_options)"
   ]
  },
  {
   "cell_type": "code",
   "execution_count": 81,
   "id": "b91adc50-a0d9-444b-b307-c7c47fa77328",
   "metadata": {},
   "outputs": [
    {
     "name": "stderr",
     "output_type": "stream",
     "text": [
      "123it [11:40,  5.70s/it]\n"
     ]
    }
   ],
   "source": [
    "start = 800\n",
    "end = 900\n",
    "\n",
    "for index, href in tqdm(enumerate(df['href'][start:])):\n",
    "    drv.get(href)\n",
    "    time.sleep(4)\n",
    "    soup = BeautifulSoup(drv.page_source, 'html.parser')\n",
    "    \n",
    "    tit = soup.find(class_='data_area').find(class_='tit')\n",
    "    card_name = tit.find(class_='card').text\n",
    "    card_company = tit.find(class_='brand').text\n",
    "\n",
    "    # promotion\n",
    "    promotions_list = soup.find(class_='bnf1').find_all('dl')\n",
    "    promotions = ''\n",
    "    for i in range(len(promotions_list)):\n",
    "        prm = promotions_list[i].find('dt').text + ' ' + promotions_list[i].find('dd').text\n",
    "        prm.replace('최대', '').replace(',', '').strip().strip()\n",
    "        promotions += prm + ' && '\n",
    "    promotions = promotions[:-3].strip()\n",
    "    \n",
    "    all_promotions = ''\n",
    "    all_promotions_list = soup.find(class_='lst bene_area').find_all('dt')\n",
    "    for i in range(len(all_promotions_list)):\n",
    "        if all_promotions_list[i].find(class_='txt1').text == '유의사항':\n",
    "            continue\n",
    "        prm = all_promotions_list[i].find('i').text\n",
    "        all_promotions += prm + ' && '\n",
    "    all_promotions = all_promotions[:-3].strip()\n",
    "    all_promotions\n",
    "    \n",
    "    # 연회비, 실적, 카드종류\n",
    "    bottoms = soup.find(class_='bnf2').find_all('dl')\n",
    "    fee = bottoms[0].find(class_='in_out').text.replace(',', '')\n",
    "    perform = bottoms[1].text.replace('\\n', '').replace('\\t', '')\n",
    "    try:\n",
    "        brand_list = bottoms[2].find(class_='c_brand').find_all('span')\n",
    "        brand = ''\n",
    "        for text in brand_list:\n",
    "            brand += text.text\n",
    "            brand += ' '\n",
    "        brand = brand.strip()\n",
    "    except:\n",
    "        brand = ''\n",
    "    \n",
    "    dd = pd.DataFrame({'card_company': [card_company], 'card_name': [card_name],\n",
    "                       'promotions': [promotions], 'all_promotions': [all_promotions],\n",
    "                       'fee': [fee], 'perform': [perform], 'brand': [brand]})\n",
    "    \n",
    "    if index==0:\n",
    "        concat_df = dd\n",
    "    else:\n",
    "        concat_df = pd.concat([concat_df, dd], ignore_index=True)\n",
    "        \n",
    "    time.sleep(1)\n",
    "    \n",
    "drv.close()"
   ]
  },
  {
   "cell_type": "code",
   "execution_count": 83,
   "id": "0024972c-a9fc-4e20-9c85-a94feae7add5",
   "metadata": {},
   "outputs": [],
   "source": [
    "# save\n",
    "concat_df.to_csv(f'project_data/all_credit_info_{start}_{end}.csv', index=False, \n",
    "                 # encoding='euc-kr'\n",
    "                )"
   ]
  },
  {
   "cell_type": "code",
   "execution_count": 85,
   "id": "165c5fb3-dbe5-4766-a65a-1156d33e221c",
   "metadata": {
    "tags": []
   },
   "outputs": [
    {
     "data": {
      "text/plain": [
       "['project_data\\\\all_credit_info_0_100.csv',\n",
       " 'project_data\\\\all_credit_info_100_200.csv',\n",
       " 'project_data\\\\all_credit_info_200_300.csv',\n",
       " 'project_data\\\\all_credit_info_300_400.csv',\n",
       " 'project_data\\\\all_credit_info_400_500.csv',\n",
       " 'project_data\\\\all_credit_info_500_600.csv',\n",
       " 'project_data\\\\all_credit_info_600_700.csv',\n",
       " 'project_data\\\\all_credit_info_700_800.csv',\n",
       " 'project_data\\\\all_credit_info_800_900.csv']"
      ]
     },
     "execution_count": 85,
     "metadata": {},
     "output_type": "execute_result"
    }
   ],
   "source": [
    "df_list = glob.glob('project_data/all_credit_info_*.csv')\n",
    "df_list"
   ]
  },
  {
   "cell_type": "code",
   "execution_count": 87,
   "id": "0eba6caa-0604-4d58-a749-2a34e8f0d4bb",
   "metadata": {
    "tags": []
   },
   "outputs": [],
   "source": [
    "df_list = glob.glob('project_data/all_credit_info_*.csv')\n",
    "\n",
    "for i in range(len(df_list)):\n",
    "    if i == 0:\n",
    "        all_df = pd.read_csv(df_list[i])\n",
    "    else:\n",
    "        all_df = pd.concat([all_df, pd.read_csv(df_list[i])], ignore_index=True)\n",
    "\n",
    "all_df.to_csv('project_data/all_credit_info.csv', index=False)"
   ]
  },
  {
   "cell_type": "code",
   "execution_count": 13,
   "id": "12012e86-30b7-4be8-87ba-1c17242d1cec",
   "metadata": {
    "tags": []
   },
   "outputs": [
    {
     "name": "stdout",
     "output_type": "stream",
     "text": [
      "<class 'pandas.core.frame.DataFrame'>\n",
      "RangeIndex: 923 entries, 0 to 922\n",
      "Data columns (total 7 columns):\n",
      " #   Column          Non-Null Count  Dtype \n",
      "---  ------          --------------  ----- \n",
      " 0   card_company    923 non-null    object\n",
      " 1   card_name       923 non-null    object\n",
      " 2   promotions      923 non-null    object\n",
      " 3   all_promotions  921 non-null    object\n",
      " 4   fee             923 non-null    object\n",
      " 5   perform         922 non-null    object\n",
      " 6   brand           887 non-null    object\n",
      "dtypes: object(7)\n",
      "memory usage: 50.6+ KB\n"
     ]
    }
   ],
   "source": [
    "all_df.info()"
   ]
  },
  {
   "cell_type": "code",
   "execution_count": 14,
   "id": "68697b85-e1c6-474d-ab9a-cdec7de9119c",
   "metadata": {
    "tags": []
   },
   "outputs": [
    {
     "data": {
      "text/html": [
       "<div>\n",
       "<style scoped>\n",
       "    .dataframe tbody tr th:only-of-type {\n",
       "        vertical-align: middle;\n",
       "    }\n",
       "\n",
       "    .dataframe tbody tr th {\n",
       "        vertical-align: top;\n",
       "    }\n",
       "\n",
       "    .dataframe thead th {\n",
       "        text-align: right;\n",
       "    }\n",
       "</style>\n",
       "<table border=\"1\" class=\"dataframe\">\n",
       "  <thead>\n",
       "    <tr style=\"text-align: right;\">\n",
       "      <th></th>\n",
       "      <th>card_company</th>\n",
       "      <th>card_name</th>\n",
       "      <th>promotions</th>\n",
       "      <th>all_promotions</th>\n",
       "      <th>fee</th>\n",
       "      <th>perform</th>\n",
       "      <th>brand</th>\n",
       "    </tr>\n",
       "  </thead>\n",
       "  <tbody>\n",
       "    <tr>\n",
       "      <th>count</th>\n",
       "      <td>923</td>\n",
       "      <td>923</td>\n",
       "      <td>923</td>\n",
       "      <td>921</td>\n",
       "      <td>923</td>\n",
       "      <td>922</td>\n",
       "      <td>887</td>\n",
       "    </tr>\n",
       "    <tr>\n",
       "      <th>unique</th>\n",
       "      <td>24</td>\n",
       "      <td>920</td>\n",
       "      <td>898</td>\n",
       "      <td>896</td>\n",
       "      <td>202</td>\n",
       "      <td>11</td>\n",
       "      <td>40</td>\n",
       "    </tr>\n",
       "    <tr>\n",
       "      <th>top</th>\n",
       "      <td>KB국민카드</td>\n",
       "      <td>어디로든 그린카드</td>\n",
       "      <td>위버스샵 4%적립 &amp;&amp; 하이브인사이트 50%할인 &amp;&amp; Gift서비스 연1회제공</td>\n",
       "      <td>Weverse Shop 이용금액의 4% Weverse Shop 캐시 추가 적립 &amp;&amp;...</td>\n",
       "      <td>국내전용 15000원  해외겸용 15000원</td>\n",
       "      <td>전월실적없음</td>\n",
       "      <td>Mastercard</td>\n",
       "    </tr>\n",
       "    <tr>\n",
       "      <th>freq</th>\n",
       "      <td>130</td>\n",
       "      <td>3</td>\n",
       "      <td>4</td>\n",
       "      <td>4</td>\n",
       "      <td>83</td>\n",
       "      <td>322</td>\n",
       "      <td>254</td>\n",
       "    </tr>\n",
       "  </tbody>\n",
       "</table>\n",
       "</div>"
      ],
      "text/plain": [
       "       card_company  card_name                                   promotions  \\\n",
       "count           923        923                                          923   \n",
       "unique           24        920                                          898   \n",
       "top          KB국민카드  어디로든 그린카드  위버스샵 4%적립 && 하이브인사이트 50%할인 && Gift서비스 연1회제공   \n",
       "freq            130          3                                            4   \n",
       "\n",
       "                                           all_promotions  \\\n",
       "count                                                 921   \n",
       "unique                                                896   \n",
       "top     Weverse Shop 이용금액의 4% Weverse Shop 캐시 추가 적립 &&...   \n",
       "freq                                                    4   \n",
       "\n",
       "                             fee perform       brand  \n",
       "count                        923     922         887  \n",
       "unique                       202      11          40  \n",
       "top     국내전용 15000원  해외겸용 15000원  전월실적없음  Mastercard  \n",
       "freq                          83     322         254  "
      ]
     },
     "execution_count": 14,
     "metadata": {},
     "output_type": "execute_result"
    }
   ],
   "source": [
    "all_df.describe(include='object')"
   ]
  },
  {
   "cell_type": "code",
   "execution_count": null,
   "id": "dda56d73-c6db-4344-9a4a-94ddd16c74ed",
   "metadata": {},
   "outputs": [],
   "source": []
  }
 ],
 "metadata": {
  "kernelspec": {
   "display_name": "Python 3 (ipykernel)",
   "language": "python",
   "name": "python3"
  },
  "language_info": {
   "codemirror_mode": {
    "name": "ipython",
    "version": 3
   },
   "file_extension": ".py",
   "mimetype": "text/x-python",
   "name": "python",
   "nbconvert_exporter": "python",
   "pygments_lexer": "ipython3",
   "version": "3.11.5"
  }
 },
 "nbformat": 4,
 "nbformat_minor": 5
}
